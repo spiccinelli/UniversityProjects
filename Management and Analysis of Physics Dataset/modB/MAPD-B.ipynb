{
 "cells": [
  {
   "cell_type": "markdown",
   "id": "19187dfb",
   "metadata": {},
   "source": [
    "<h1 align='center'>Final assignment of \"Management and Analysis of Physics Datasets\"</h1>\n",
    "<img align='right' src='https://www.unidformazione.com/wp-content/uploads/2018/04/unipd-universita-di-padova.png' alt='Drawing' style='width:400px;'/>\n",
    "\n",
    "\n",
    "<h2 align='left'>Setting an upper limit on the branching ratio of FCNC $t\\bar{t}$ processes with CMS data: a distributed approach</h2>\n",
    "\n",
    "\n",
    "<h3 align='left'>University of Padua - Physics of Data</h3>\n",
    "<h4 align='left'>Prof. Jacopo Pazzini</h4>\n",
    "<br>\n",
    "\n",
    "**Name** | **ID number** | **mail**@studenti.unipd.it\n",
    ":-:|:-:|-:\n",
    "Chiara Maccani | 2027591 | chiara.maccani\n",
    "Samuele Piccinelli | 2027650 | samuele.piccinelli\n",
    "Tommaso Stentella | 2027586 | tommaso.stentella\n",
    "Cristina Venturini | 2022461 | cristina.venturini.5"
   ]
  },
  {
   "cell_type": "markdown",
   "id": "2d3e27bc",
   "metadata": {},
   "source": [
    "<a id='index'></a>\n",
    "### Index\n",
    "\n",
    "#### 1. [Setting up the Spark session](#1)\n",
    "#### 2. [Read the ROOT files stored remotely from S3 bucket¶](#2)\n",
    "#### 3. [Path and dataset](#3)\n",
    "#### 4. [Read and load the data](#4)\n",
    "#### 5. [Measuring performance](#5)\n",
    "#### 6. [Skimming and HLF creation](#6)\n",
    "#### 7. [Save the datasets as parquet files](#7)\n",
    "#### 8. [Histograms plotting](#8)\n",
    "#### 9. [Statistical analysis](#9)\n",
    "#### 10. [Final results](#10)"
   ]
  },
  {
   "cell_type": "code",
   "execution_count": 1,
   "id": "cc89aef5",
   "metadata": {
    "scrolled": true
   },
   "outputs": [],
   "source": [
    "# - import libraries and useful dependencies\n",
    "\n",
    "import numpy as np\n",
    "import math as mh\n",
    "import uproot\n",
    "import requests\n",
    "import ssl\n",
    "import seaborn as sns\n",
    "import json\n",
    "import pandas as pd\n",
    "\n",
    "import findspark\n",
    "findspark.init('/usr/local/spark')\n",
    "\n",
    "from pyspark import SparkConf, SparkContext\n",
    "from pyspark.sql import SparkSession\n",
    "\n",
    "from matplotlib import pyplot as plt\n",
    "from matplotlib import patches\n",
    "from matplotlib.lines import Line2D\n",
    "\n",
    "plt.rc('axes', **{'grid':False,'titlesize':'large','labelsize':'large','unicode_minus':False})\n",
    "plt.rc('legend',fontsize=16)\n",
    "plt.rc('xtick', labelsize=16)\n",
    "plt.rc('ytick', labelsize=16)"
   ]
  },
  {
   "cell_type": "markdown",
   "id": "521bdf23",
   "metadata": {},
   "source": [
    "<a id='1'></a>\n",
    "[Index](#index)\n",
    "### 1. Setting up the Spark session"
   ]
  },
  {
   "cell_type": "code",
   "execution_count": 2,
   "id": "1ce439cb",
   "metadata": {},
   "outputs": [],
   "source": [
    "%%capture\n",
    "\n",
    "spark = SparkSession.builder \\\n",
    "        .master('spark://10.67.22.59:7077') \\\n",
    "        .appName('MAPD-B Exam') \\\n",
    "        .config('spark.jars.packages', 'org.apache.hadoop:hadoop-aws:2.7.3,ch.cern.sparkmeasure:spark-measure_2.12:0.17') \\\n",
    "        .config('spark.executor.cores', '4') \\\n",
    "        .config('spark.executor.memory','6g') \\\n",
    "        .getOrCreate()"
   ]
  },
  {
   "cell_type": "code",
   "execution_count": 3,
   "id": "81b33dab",
   "metadata": {},
   "outputs": [
    {
     "data": {
      "text/html": [
       "\n",
       "            <div>\n",
       "                <p><b>SparkSession - in-memory</b></p>\n",
       "                \n",
       "        <div>\n",
       "            <p><b>SparkContext</b></p>\n",
       "\n",
       "            <p><a href=\"http://master:4040\">Spark UI</a></p>\n",
       "\n",
       "            <dl>\n",
       "              <dt>Version</dt>\n",
       "                <dd><code>v3.1.2</code></dd>\n",
       "              <dt>Master</dt>\n",
       "                <dd><code>spark://10.67.22.59:7077</code></dd>\n",
       "              <dt>AppName</dt>\n",
       "                <dd><code>MAPD-B Exam</code></dd>\n",
       "            </dl>\n",
       "        </div>\n",
       "        \n",
       "            </div>\n",
       "        "
      ],
      "text/plain": [
       "<pyspark.sql.session.SparkSession at 0x7f81cc2f6278>"
      ]
     },
     "execution_count": 3,
     "metadata": {},
     "output_type": "execute_result"
    }
   ],
   "source": [
    "spark"
   ]
  },
  {
   "cell_type": "code",
   "execution_count": 4,
   "id": "d32baf02",
   "metadata": {},
   "outputs": [],
   "source": [
    "sc = spark.sparkContext"
   ]
  },
  {
   "cell_type": "markdown",
   "id": "afacfd96",
   "metadata": {},
   "source": [
    "<a id='2'></a>\n",
    "[Index](#index)\n",
    "### 2. Read the ROOT files stored remotely from S3 bucket"
   ]
  },
  {
   "cell_type": "code",
   "execution_count": 5,
   "id": "56c686a5",
   "metadata": {},
   "outputs": [],
   "source": [
    "import os\n",
    "import configparser\n",
    "\n",
    "config = configparser.ConfigParser()\n",
    "config.read(os.path.expanduser('~/.s3cfg'))\n",
    "access_id = config.get('aws_profile', 'access_key') \n",
    "access_key = config.get('aws_profile', 'secret_key')"
   ]
  },
  {
   "cell_type": "code",
   "execution_count": 6,
   "id": "f7e1e8b2",
   "metadata": {},
   "outputs": [],
   "source": [
    "hadoop_conf=sc._jsc.hadoopConfiguration()\n",
    "\n",
    "hadoop_conf.set('fs.s3n.impl', 'org.apache.hadoop.fs.s3native.NativeS3FileSystem')\n",
    "hadoop_conf.set('fs.s3n.awsAccessKeyId', access_id)\n",
    "hadoop_conf.set('fs.s3n.awsSecretAccessKey', access_key)"
   ]
  },
  {
   "cell_type": "markdown",
   "id": "afd6b4e8",
   "metadata": {},
   "source": [
    "<a id='3'></a>\n",
    "[Index](#index)\n",
    "### 3. Path and dataset"
   ]
  },
  {
   "cell_type": "code",
   "execution_count": 7,
   "id": "cd57e193",
   "metadata": {},
   "outputs": [],
   "source": [
    "%%capture\n",
    "\n",
    "buck = 'https://cloud-areapd.pd.infn.it:5210/swift/v1/AUTH_d2e941ce4b324467b6b3d467a923a9bc/LCPmodB-Y3_CMS_FCNC/'\n",
    "\n",
    "listDir = requests.get(buck, verify=False).text.split('\\n')\n",
    "# listDir"
   ]
  },
  {
   "cell_type": "code",
   "execution_count": 8,
   "id": "519c32b6",
   "metadata": {},
   "outputs": [],
   "source": [
    "def returnDir(string):\n",
    "    return [filename for filename in listDir if filename.startswith(string)]"
   ]
  },
  {
   "cell_type": "code",
   "execution_count": 9,
   "id": "18e67e57",
   "metadata": {},
   "outputs": [],
   "source": [
    "# - Data + MC Signal\n",
    "dataDirs = returnDir('SingleMuon')\n",
    "for i in range(len(dataDirs)):\n",
    "    dataDirs[i] = [buck + dataDirs[i], 'data']\n",
    "\n",
    "signalMCDirs = returnDir('TT_FCNC')\n",
    "for i in range(len(signalMCDirs)):\n",
    "    signalMCDirs[i] = [buck + signalMCDirs[i], 'signal']\n",
    "\n",
    "# - MC backgrounds\n",
    "listBkgDir = ['ST_', 'TTTT_Tune', 'TTTo2L2Nu', 'TTToHadronic', 'TTToSemiLeptonic', 'TTWJetsToLNu', 'TTZToLLNuNu',\n",
    "              'WGToLNuG', 'WJetsToLNu', 'WWTo2L2Nu', 'WWW', 'WWZ', 'WZG', 'WZTo1L1Nu2Q', 'WZTo2L2Q', 'WZTo3LNu',\n",
    "              'WZZ', 'WmWmJJ', 'WminusH', 'WpWpJJ', 'ZG', 'ZZ', 'tZq', 'DYJetsToLL_M', 'QCD']\n",
    "\n",
    "bkgMCDirs = list(map(returnDir, listBkgDir))\n",
    "\n",
    "bkgFiles = []\n",
    "for j,i in zip(listBkgDir, bkgMCDirs):\n",
    "    for k in i:\n",
    "        bkgFiles.append([buck + k, j])\n",
    "\n",
    "# 1/3 of the dataset is here used\n",
    "fileList = dataDirs[::3] + signalMCDirs[::3] + bkgFiles[::3]"
   ]
  },
  {
   "cell_type": "markdown",
   "id": "3902e08f",
   "metadata": {},
   "source": [
    "<a id='4'></a>\n",
    "[Index](#index)\n",
    "### 4. Read and load the data"
   ]
  },
  {
   "cell_type": "code",
   "execution_count": 10,
   "id": "bdf7e6e6",
   "metadata": {},
   "outputs": [],
   "source": [
    "def readRoot(file_label):\n",
    "    if (not os.environ.get('PYTHONHTTPSVERIFY', '') and getattr(ssl, '_create_unverified_context', None)):\n",
    "        ssl._create_default_https_context = ssl._create_unverified_context\n",
    "        \n",
    "    file_name = file_label[0]\n",
    "    label = file_label[1]\n",
    "    \n",
    "    var = ['iSkim', 'event', 'eventWeightLumi', 'nMuon','Muon_pfRelIso03_all', 'Muon_pt', 'Muon_eta',\n",
    "            'Muon_phi', 'Muon_charge', 'nElectron','Electron_pfRelIso03_all','nCleanJet','nBJet','MET_pt', 'MET_phi']\n",
    "\n",
    "    pro = uproot.open(file_name + ':Events').arrays(var, library='np')\n",
    "    nEvent = len(pro['event'])\n",
    "    custom_data = [0 for _ in range(nEvent)]\n",
    "\n",
    "    for i in range(nEvent):\n",
    "        event = dict(list(zip(var, [pro[j][i].tolist() for j in var])))\n",
    "        event['sample'] = label\n",
    "        custom_data[i] = event\n",
    "    return custom_data"
   ]
  },
  {
   "cell_type": "code",
   "execution_count": 11,
   "id": "554b4cf5",
   "metadata": {
    "scrolled": true
   },
   "outputs": [],
   "source": [
    "# load data\n",
    "dfRoot = sc.parallelize(fileList)\\\n",
    "           .flatMap(readRoot).toDF()"
   ]
  },
  {
   "cell_type": "markdown",
   "id": "f4df317a",
   "metadata": {},
   "source": [
    "<a id='5'></a>\n",
    "[Index](#index)\n",
    "### 5. Measuring performance"
   ]
  },
  {
   "cell_type": "code",
   "execution_count": 12,
   "id": "65fcde58",
   "metadata": {},
   "outputs": [],
   "source": [
    "perf_test = '/root/perf_test/'\n",
    "perf_files = os.listdir(perf_test)\n",
    "\n",
    "def returnFiles(string):\n",
    "    return [filename for filename in perf_files if filename.startswith(string)]\n",
    "\n",
    "trial_dir = [i for i in fileList if i[1]=='tZq']"
   ]
  },
  {
   "cell_type": "code",
   "execution_count": 13,
   "id": "116c1e69",
   "metadata": {},
   "outputs": [],
   "source": [
    "from sparkmeasure import StageMetrics\n",
    "stagemetrics = StageMetrics(spark)\n",
    "\n",
    "def sparkmeasure(df, idx, ex):\n",
    "    stagemetrics.begin()\n",
    "    df.count()\n",
    "    stagemetrics.end()\n",
    "    \n",
    "    df_out = stagemetrics.create_stagemetrics_DF('PerfStageMetrics')\n",
    "    stagemetrics.save_data(df_out, './perf_test/stagemetrics_{}_{}'.format(ex, idx))"
   ]
  },
  {
   "cell_type": "code",
   "execution_count": 14,
   "id": "0609d853",
   "metadata": {},
   "outputs": [],
   "source": [
    "part = [4,12,24,36,48,56,64]\n",
    "executors = ['a', 'b', 'c', 'd', 'e']"
   ]
  },
  {
   "cell_type": "code",
   "execution_count": null,
   "id": "3f64cce2",
   "metadata": {},
   "outputs": [],
   "source": [
    "exe = executors[0]"
   ]
  },
  {
   "cell_type": "code",
   "execution_count": null,
   "id": "f6189c38",
   "metadata": {},
   "outputs": [],
   "source": [
    "# trialdf = [0]*len(part)\n",
    "# for i in range(len(part)): \n",
    "#     trialdf[i] = sc.parallelize(trial_dir, part[i]).flatMap(readRoot).toDF()"
   ]
  },
  {
   "cell_type": "code",
   "execution_count": null,
   "id": "5164b259",
   "metadata": {},
   "outputs": [],
   "source": [
    "# sparkmeasure(trialdf[0], part[0], exe)"
   ]
  },
  {
   "cell_type": "code",
   "execution_count": 15,
   "id": "761d2849",
   "metadata": {},
   "outputs": [],
   "source": [
    "perf_files = os.listdir(perf_test)\n",
    "heat = np.zeros((len(executors),len(part)))\n",
    "\n",
    "for i, j in zip(range(heat.shape[0]), executors):    \n",
    "    for file, k in zip(sorted(returnFiles(j)),range(heat.shape[1])) :\n",
    "        table = []\n",
    "        with open(perf_test + file, 'r') as f:\n",
    "            for line in f:\n",
    "                table.append(json.loads(line))  \n",
    "        time0 = table[0]['completionTime'] - table[0]['submissionTime']\n",
    "        time1 = table[1]['completionTime'] - table[1]['submissionTime']\n",
    "        time = max(time0, time1)  \n",
    "        time = round(time/1000,2)\n",
    "\n",
    "        heat[i,k] = time"
   ]
  },
  {
   "cell_type": "code",
   "execution_count": 16,
   "id": "db321da0",
   "metadata": {},
   "outputs": [
    {
     "data": {
      "image/png": "[encoded data removed]",
      "text/plain": [
       "<Figure size 576x432 with 2 Axes>"
      ]
     },
     "metadata": {
      "needs_background": "light"
     },
     "output_type": "display_data"
    }
   ],
   "source": [
    "fig, ax = plt.subplots(figsize=(8,6))\n",
    "df = pd.DataFrame(heat, index = executors, columns = part)\n",
    "sns.heatmap(df, annot=True, cmap='coolwarm', fmt='.1f', annot_kws={'fontsize':16}, ax=ax)\n",
    "ax.set_title('Performances heatmap (s)\\n', fontsize=18)\n",
    "ax.set_xlabel('\\nNumber of partitions', fontsize=16)\n",
    "ax.set_ylabel('Configuration\\n', fontsize=16)\n",
    "plt.show()"
   ]
  },
  {
   "cell_type": "markdown",
   "id": "fc470a11",
   "metadata": {},
   "source": [
    "***\n",
    "\n",
    "**Code** | **Configuration** | **Memory**\n",
    ":-:|:-:|:-:\n",
    "a | 16 exe, each w/ 1 core | 1.5 Gb\n",
    "b | 8 exe, each w/ 2 cores | 3 Gb\n",
    "c | 3 exe, 1 w/ 4 cores, 2 w/ 2 cores | 6 Gb\n",
    "d | 4 exe, each w/ 4 cores | 6 Gb\n",
    "e | 3 exe, 1 w/ 8 cores, 2 w/ 4 cores | 6 Gb"
   ]
  },
  {
   "cell_type": "markdown",
   "id": "98ca24d8",
   "metadata": {},
   "source": [
    "<a id='6'></a>\n",
    "[Index](#index)\n",
    "### 6. Skimming and HLF creation"
   ]
  },
  {
   "cell_type": "code",
   "execution_count": 17,
   "id": "f11e0c2f",
   "metadata": {},
   "outputs": [
    {
     "name": "stdout",
     "output_type": "stream",
     "text": [
      "root\n",
      " |-- Electron_pfRelIso03_all: array (nullable = true)\n",
      " |    |-- element: double (containsNull = true)\n",
      " |-- MET_phi: double (nullable = true)\n",
      " |-- MET_pt: double (nullable = true)\n",
      " |-- Muon_charge: array (nullable = true)\n",
      " |    |-- element: long (containsNull = true)\n",
      " |-- Muon_eta: array (nullable = true)\n",
      " |    |-- element: double (containsNull = true)\n",
      " |-- Muon_pfRelIso03_all: array (nullable = true)\n",
      " |    |-- element: double (containsNull = true)\n",
      " |-- Muon_phi: array (nullable = true)\n",
      " |    |-- element: double (containsNull = true)\n",
      " |-- Muon_pt: array (nullable = true)\n",
      " |    |-- element: double (containsNull = true)\n",
      " |-- event: long (nullable = true)\n",
      " |-- eventWeightLumi: double (nullable = true)\n",
      " |-- iSkim: long (nullable = true)\n",
      " |-- nBJet: long (nullable = true)\n",
      " |-- nCleanJet: long (nullable = true)\n",
      " |-- nElectron: long (nullable = true)\n",
      " |-- nMuon: long (nullable = true)\n",
      " |-- sample: string (nullable = true)\n",
      "\n"
     ]
    }
   ],
   "source": [
    "dfRoot.printSchema()"
   ]
  },
  {
   "cell_type": "markdown",
   "id": "05291c41",
   "metadata": {},
   "source": [
    "#### First level filter"
   ]
  },
  {
   "cell_type": "code",
   "execution_count": 18,
   "id": "0581b258",
   "metadata": {},
   "outputs": [],
   "source": [
    "import pyspark.sql.functions as pf\n",
    "import pyspark.sql.types as pt\n",
    "\n",
    "arr = pt.ArrayType\n",
    "maskMu = pf.udf(lambda iso, pt: [True if i < .15 and p > 15 else False for i,p in zip(iso,pt)], arr(pt.BooleanType()))\n",
    "maskEl = pf.udf(lambda iso: [True if i < .15 else False for i in iso], arr(pt.BooleanType()))\n",
    "apply_mask_long = pf.udf(lambda x, mask: [i for i,m in zip(x,mask) if m], arr(pt.LongType()))\n",
    "apply_mask_doub = pf.udf(lambda x, mask: [i for i,m in zip(x,mask) if m], arr(pt.DoubleType()))\n",
    "count_col = pf.udf(lambda m: abs(sum(m)), pt.IntegerType())\n",
    "mass_mu = pf.lit(.1057)"
   ]
  },
  {
   "cell_type": "code",
   "execution_count": 19,
   "id": "fb5bb0b7",
   "metadata": {
    "scrolled": true
   },
   "outputs": [],
   "source": [
    "def skimmer(df):\n",
    "    fdf = df.filter('iSkim == 3')\\\n",
    "    .withColumn('maskMu', maskMu('Muon_pfRelIso03_all', 'Muon_pt'))\\\n",
    "    .withColumn('nGoodMu', count_col('maskMu'))\\\n",
    "    .withColumn('maskEl', maskEl('Electron_pfRelIso03_all'))\\\n",
    "    .drop('Muon_pfRelIso03_all', 'Electron_pfRelIso03_all')\\\n",
    "    .withColumn('nGoodEl', count_col('maskEl'))\\\n",
    "    .filter('(nGoodMu == 3) AND (nGoodEl == 0)')\\\n",
    "    .drop('nGoodMu', 'nGoodEl')\\\n",
    "    .withColumn('SumCharge', count_col(apply_mask_long('Muon_charge', 'maskMu')))\\\n",
    "    .filter('SumCharge != 3')\\\n",
    "    .drop('SumCharge')\\\n",
    "    .withColumn('sMuon_pt', apply_mask_doub('Muon_pt', 'maskMu'))\\\n",
    "    .withColumn('sMuon_eta', apply_mask_doub('Muon_eta', 'maskMu'))\\\n",
    "    .withColumn('sMuon_phi', apply_mask_doub('Muon_phi', 'maskMu'))\\\n",
    "    .withColumn('sMuon_charge', apply_mask_long('Muon_charge', 'maskMu'))\\\n",
    "    .withColumn('sMuon_mass', pf.array(mass_mu, mass_mu, mass_mu))\\\n",
    "    .drop('Muon_pt', 'Muon_eta', 'Muon_phi', 'Muon_charge')\\\n",
    "    .filter('(nCleanJet >= 2) AND (nBJet >= 1)')\\\n",
    "    .drop('nCleanJet', 'nBJet')\n",
    "    \n",
    "    return fdf"
   ]
  },
  {
   "cell_type": "code",
   "execution_count": 20,
   "id": "2aa40bb2",
   "metadata": {},
   "outputs": [],
   "source": [
    "dfSkimmed = skimmer(dfRoot)"
   ]
  },
  {
   "cell_type": "markdown",
   "id": "872ac0c5",
   "metadata": {},
   "source": [
    "#### Second level filter: $\\Delta R$, $\\Delta\\phi$ and $m_{inv}$"
   ]
  },
  {
   "cell_type": "code",
   "execution_count": 21,
   "id": "e5a3a656",
   "metadata": {},
   "outputs": [],
   "source": [
    "def DeltaR(eta1, eta2, phi1, phi2):\n",
    "    return mh.sqrt((eta1-eta2)**2 + (phi1-phi2)**2)\n",
    "\n",
    "@pf.udf(arr(pt.IntegerType()))\n",
    "def find_idx(charge, phi, eta):\n",
    "   \n",
    "    idx = [-1]*len(charge)\n",
    "    \n",
    "    if(charge[0]==charge[1] and charge[1]!=charge[2]):\n",
    "        idx[0] = 2\n",
    "        dr_1 = DeltaR(eta[1], eta[2], phi[1], phi[2])\n",
    "        dr_2 = DeltaR(eta[0], eta[2], phi[0], phi[2])\n",
    "        \n",
    "        if(dr_1 < dr_2): idx[1], idx[2] = 1, 0\n",
    "        else: idx[1], idx[2] = 0, 1\n",
    "        \n",
    "    if(charge[0]!=charge[1] and charge[1]!=charge[2]): \n",
    "        idx[0] = 1\n",
    "        dr_1 = DeltaR(eta[1], eta[2], phi[1], phi[2])\n",
    "        dr_2 = DeltaR(eta[0], eta[1], phi[0], phi[1])\n",
    "        \n",
    "        if(dr_1 < dr_2): idx[1], idx[2] = 2, 0\n",
    "        else: idx[1], idx[2] = 2, 0\n",
    "    \n",
    "    if(charge[0]!=charge[1] and charge[1]==charge[2]):\n",
    "        idx[0] = 0\n",
    "        dr_1 = DeltaR(eta[0], eta[2], phi[0], phi[2])\n",
    "        dr_2 = DeltaR(eta[0], eta[1], phi[0], phi[1])\n",
    "        \n",
    "        if(dr_1 < dr_2): idx[1], idx[2] = 2, 1\n",
    "        else: idx[1], idx[2] = 1, 2   \n",
    "        \n",
    "    return idx"
   ]
  },
  {
   "cell_type": "code",
   "execution_count": 22,
   "id": "fa4065a6",
   "metadata": {},
   "outputs": [],
   "source": [
    "dR = pf.udf(lambda eta1, eta2, phi1, phi2: DeltaR(eta1, eta2, phi1, phi2), pt.DoubleType())\n",
    "\n",
    "return_value_long = pf.udf(lambda x,idx,val: x[idx[val]], pt.LongType())\n",
    "return_value_doub = pf.udf(lambda x,idx,val: x[idx[val]], pt.DoubleType())"
   ]
  },
  {
   "cell_type": "code",
   "execution_count": 23,
   "id": "e3774c9c",
   "metadata": {},
   "outputs": [],
   "source": [
    "def invMass(pt, eta, phi, mass):\n",
    "    \n",
    "    size = len(pt)\n",
    "    assert(len(eta) == size and len(phi) == size and len(mass) == size)\n",
    "  \n",
    "    x_sum, y_sum, z_sum, e_sum = 0., 0., 0., 0.\n",
    "  \n",
    "    for i in range(size):\n",
    "        # Convert to (e, x, y, z) coordinate system and update sums\n",
    "        x = pt[i] * mh.cos(phi[i])\n",
    "        x_sum += x\n",
    "        y = pt[i] * mh.sin(phi[i])\n",
    "        y_sum += y\n",
    "        z = pt[i] * mh.sinh(eta[i])\n",
    "        z_sum += z\n",
    "        e = mh.sqrt(x * x + y * y + z * z + mass[i] * mass[i])\n",
    "        e_sum += e\n",
    "        \n",
    "    return mh.sqrt(e_sum * e_sum - x_sum * x_sum - y_sum * y_sum - z_sum * z_sum)"
   ]
  },
  {
   "cell_type": "code",
   "execution_count": 24,
   "id": "ce367944",
   "metadata": {},
   "outputs": [],
   "source": [
    "invMass3 = pf.udf(lambda pt, eta, phi, mass: invMass(pt, eta, phi, mass), pt.DoubleType())\n",
    "invMass2 = pf.udf(lambda pt1, pt2, eta1, eta2, phi1, phi2, mass1, mass2:\n",
    "                 invMass([pt1, pt2], [eta1, eta2], [phi1, phi2], [mass1, mass2]), pt.DoubleType())"
   ]
  },
  {
   "cell_type": "code",
   "execution_count": 25,
   "id": "625d8e90",
   "metadata": {
    "scrolled": true
   },
   "outputs": [],
   "source": [
    "def dfHLF(df):\n",
    "    fdf = df.withColumn('mu_idx', find_idx('sMuon_charge', 'sMuon_phi', 'sMuon_eta'))\\\n",
    "    .withColumn('mu_pt0', return_value_doub('sMuon_pt', 'mu_idx', pf.lit(0)))\\\n",
    "    .withColumn('mu_pt1', return_value_doub('sMuon_pt', 'mu_idx', pf.lit(1)))\\\n",
    "    .withColumn('mu_pt2', return_value_doub('sMuon_pt', 'mu_idx', pf.lit(2)))\\\n",
    "    .withColumn('mu_eta0', return_value_doub('sMuon_eta', 'mu_idx', pf.lit(0)))\\\n",
    "    .withColumn('mu_eta1', return_value_doub('sMuon_eta', 'mu_idx', pf.lit(1)))\\\n",
    "    .withColumn('mu_eta2', return_value_doub('sMuon_eta', 'mu_idx', pf.lit(2)))\\\n",
    "    .withColumn('mu_phi0', return_value_doub('sMuon_phi', 'mu_idx', pf.lit(0)))\\\n",
    "    .withColumn('mu_phi1', return_value_doub('sMuon_phi', 'mu_idx', pf.lit(1)))\\\n",
    "    .withColumn('mu_phi2', return_value_doub('sMuon_phi', 'mu_idx', pf.lit(2)))\\\n",
    "    .withColumn('mu_q0', return_value_long('sMuon_charge', 'mu_idx', pf.lit(0)))\\\n",
    "    .withColumn('mu_q1', return_value_long('sMuon_charge', 'mu_idx', pf.lit(1)))\\\n",
    "    .withColumn('mu_q2', return_value_long('sMuon_charge', 'mu_idx', pf.lit(2)))\\\n",
    "    .withColumn('mu_mass0', pf.lit(0.1057))\\\n",
    "    .withColumn('mu_mass1', pf.lit(0.1057))\\\n",
    "    .withColumn('mu_mass2', pf.lit(0.1057))\\\n",
    "    .withColumn('inv_m3', invMass3('sMuon_pt', 'sMuon_eta', 'sMuon_phi', 'sMuon_mass'))\\\n",
    "    .withColumn('inv_m01', invMass2('mu_pt0', 'mu_pt1', 'mu_eta0', 'mu_eta1', 'mu_phi0', 'mu_phi1', 'mu_mass0', 'mu_mass1'))\\\n",
    "    .withColumn('inv_m02', invMass2('mu_pt0', 'mu_pt2', 'mu_eta0', 'mu_eta2', 'mu_phi0', 'mu_phi2', 'mu_mass0', 'mu_mass2'))\\\n",
    "    .withColumn('inv_m12', invMass2('mu_pt1', 'mu_pt2', 'mu_eta1', 'mu_eta2', 'mu_phi1', 'mu_phi2', 'mu_mass1', 'mu_mass2'))\\\n",
    "    .filter('(inv_m01 > 15) AND (inv_m02 > 15) AND (inv_m12 > 15)')\\\n",
    "    .filter('(abs(inv_m01 - 91.2) > 10) AND (abs(inv_m02 - 91.2) > 10)')\\\n",
    "    .withColumn('dR01', dR('mu_eta0', 'mu_eta1', 'mu_phi0', 'mu_phi1'))\\\n",
    "    .withColumn('dR02', dR('mu_eta0', 'mu_eta2', 'mu_phi0', 'mu_phi2'))\\\n",
    "    .withColumn('dPhi0', pf.abs(pf.col('MET_phi') - pf.col('mu_phi0')))\\\n",
    "    .withColumn('dPhi1', pf.abs(pf.col('MET_phi') - pf.col('mu_phi1')))\\\n",
    "    .withColumn('dPhi2', pf.abs(pf.col('MET_phi') - pf.col('mu_phi2')))\n",
    "    \n",
    "    return fdf"
   ]
  },
  {
   "cell_type": "code",
   "execution_count": 26,
   "id": "1c4e07ab",
   "metadata": {},
   "outputs": [],
   "source": [
    "final = dfHLF(dfSkimmed)"
   ]
  },
  {
   "cell_type": "markdown",
   "id": "2f5edd91",
   "metadata": {},
   "source": [
    "<a id='7'></a>\n",
    "[Index](#index)\n",
    "### 7. Save the datasets as parquet files"
   ]
  },
  {
   "cell_type": "code",
   "execution_count": 27,
   "id": "9d12ad34",
   "metadata": {},
   "outputs": [],
   "source": [
    "final = final.cache()"
   ]
  },
  {
   "cell_type": "code",
   "execution_count": 28,
   "id": "53946f62",
   "metadata": {},
   "outputs": [],
   "source": [
    "dfFlat = final.drop('sMuon_pt','sMuon_eta','sMuon_phi','sMuon_charge','sMuon_mass','maskMu','maskEl','mu_idx',\n",
    "                    'mu_mass0','mu_mass1','mu_mass2','mu_q0','mu_q1','mu_q2')"
   ]
  },
  {
   "cell_type": "code",
   "execution_count": 29,
   "id": "717a2734",
   "metadata": {},
   "outputs": [
    {
     "name": "stdout",
     "output_type": "stream",
     "text": [
      "root\n",
      " |-- MET_phi: double (nullable = true)\n",
      " |-- MET_pt: double (nullable = true)\n",
      " |-- event: long (nullable = true)\n",
      " |-- eventWeightLumi: double (nullable = true)\n",
      " |-- iSkim: long (nullable = true)\n",
      " |-- nElectron: long (nullable = true)\n",
      " |-- nMuon: long (nullable = true)\n",
      " |-- sample: string (nullable = true)\n",
      " |-- mu_pt0: double (nullable = true)\n",
      " |-- mu_pt1: double (nullable = true)\n",
      " |-- mu_pt2: double (nullable = true)\n",
      " |-- mu_eta0: double (nullable = true)\n",
      " |-- mu_eta1: double (nullable = true)\n",
      " |-- mu_eta2: double (nullable = true)\n",
      " |-- mu_phi0: double (nullable = true)\n",
      " |-- mu_phi1: double (nullable = true)\n",
      " |-- mu_phi2: double (nullable = true)\n",
      " |-- inv_m3: double (nullable = true)\n",
      " |-- inv_m01: double (nullable = true)\n",
      " |-- inv_m02: double (nullable = true)\n",
      " |-- inv_m12: double (nullable = true)\n",
      " |-- dR01: double (nullable = true)\n",
      " |-- dR02: double (nullable = true)\n",
      " |-- dPhi0: double (nullable = true)\n",
      " |-- dPhi1: double (nullable = true)\n",
      " |-- dPhi2: double (nullable = true)\n",
      "\n"
     ]
    }
   ],
   "source": [
    "dfFlat.printSchema()"
   ]
  },
  {
   "cell_type": "code",
   "execution_count": 30,
   "id": "17ee3c6f",
   "metadata": {},
   "outputs": [
    {
     "name": "stdout",
     "output_type": "stream",
     "text": [
      "CPU times: user 111 ms, sys: 39.6 ms, total: 150 ms\n",
      "Wall time: 12min 56s\n"
     ]
    }
   ],
   "source": [
    "DATASETS_PATH = './data'\n",
    "\n",
    "%time dfFlat.write.parquet(DATASETS_PATH + '/flat_dataset', mode='overwrite')"
   ]
  },
  {
   "cell_type": "code",
   "execution_count": 31,
   "id": "460afd85",
   "metadata": {},
   "outputs": [
    {
     "name": "stdout",
     "output_type": "stream",
     "text": [
      "There are 13791 events\n"
     ]
    }
   ],
   "source": [
    "df = spark.read.format('parquet').load('./data/flat_dataset')\n",
    "\n",
    "events = df.count()\n",
    "print('There are {} events'.format(events))"
   ]
  },
  {
   "cell_type": "code",
   "execution_count": 32,
   "id": "4a6e0c55",
   "metadata": {},
   "outputs": [],
   "source": [
    "df = df.cache()"
   ]
  },
  {
   "cell_type": "markdown",
   "id": "b2c5aae4",
   "metadata": {},
   "source": [
    "<a id='8'></a>\n",
    "[Index](#index)\n",
    "### 8. Histograms plotting"
   ]
  },
  {
   "cell_type": "code",
   "execution_count": 33,
   "id": "90ffba98",
   "metadata": {},
   "outputs": [],
   "source": [
    "def histo(variable, weight, sample, range_, bins):\n",
    "    edges = np.array([i*(range_[1]-range_[0])/bins for i in range(0,bins+1)])\n",
    "    edges = edges+range_[0]\n",
    "    \n",
    "    lim_couples = [[edges[i], edges[i+1]] for i in range(len(edges)-1)]\n",
    "    \n",
    "    def filtr(limits):\n",
    "        if type(variable) != list:\n",
    "            if (variable >= limits[0]) and (variable < limits[1]):\n",
    "                return 1\n",
    "            else: return 0\n",
    "        else:\n",
    "            lim0 = np.full(len(variable),limits[0])\n",
    "            lim1 = np.full(len(variable),limits[1])\n",
    "            mask = np.logical_and((variable >= lim0), (variable < lim1))\n",
    "            if np.any(mask):\n",
    "                return np.sum(mask)\n",
    "            else: return 0\n",
    "    \n",
    "    counts = np.array(list(map(filtr, lim_couples))) * weight\n",
    "    \n",
    "    return (sample, [edges, counts])"
   ]
  },
  {
   "cell_type": "code",
   "execution_count": 34,
   "id": "7a9ea6c0",
   "metadata": {},
   "outputs": [],
   "source": [
    "def plot_histogram(data, variable, interval, nbins, compute=True, mu=0,\n",
    "                   data_counts=None, SigMC_counts=None, bkgMC_counts=None):\n",
    "    \n",
    "    ### Histogram bins counting ###\n",
    "    if compute:\n",
    "        histos = dict(\n",
    "            data.select([variable,'eventWeightLumi','sample']).rdd\n",
    "            .map(lambda x: histo(x[variable], x['eventWeightLumi'], x['sample'], range_=interval, bins=nbins))\n",
    "            .reduceByKey(lambda x,y: (x[0], x[1]+y[1])).take(50)\n",
    "        )\n",
    "\n",
    "        edges, data_counts = histos['data']                                                                              \n",
    "        _ , SigMC_counts = histos['signal']\n",
    "\n",
    "        bkgMC_counts = []\n",
    "        bkgMC_labels = listBkgDir\n",
    "\n",
    "        for value in bkgMC_labels:\n",
    "            try:\n",
    "                _ , counts = histos[value]\n",
    "                bkgMC_counts.append(counts)\n",
    "            except: continue\n",
    "                \n",
    "    if compute == False:\n",
    "        edges = np.array([i*(interval[1]-interval[0])/nbins for i in range(0,nbins+1)])\n",
    "        edges = edges+interval[0] \n",
    "    bin_centers = edges[:-1] + np.diff(edges)/2   \n",
    "        \n",
    "    ### Signal rescaling ###\n",
    "    if mu == 0: \n",
    "        bkg_values, bkg_bins, _ = plt.hist(\n",
    "            np.tile(bin_centers, (len(bkgMC_counts),1)).tolist(), weights=bkgMC_counts, bins=edges, \n",
    "            stacked=True, histtype= 'barstacked'\n",
    "        )\n",
    "\n",
    "        areaBkg = sum(np.diff(bkg_bins)*bkg_values)\n",
    "        sig_values, sig_bins, _ = plt.hist(bin_centers, weights=SigMC_counts, bins=edges)\n",
    "        areaSig = sum(np.diff(sig_bins)*sig_values) \n",
    "        mu = areaBkg/areaSig\n",
    "\n",
    "        plt.close()\n",
    "        \n",
    "    else: SigMC_counts = SigMC_counts*mu + np.array(bkgMC_counts).sum(0)\n",
    "    \n",
    "    ### Background colors ###\n",
    "    repeat = [1,4,1,1,15,3]\n",
    "    colors = [(222/255, 90/255, 106/255),(248/255, 206/255, 104/255),(155/255, 152/255, 204/255),\n",
    "                (247/255, 138/255, 221/255),(250/255, 202/255, 255/255),(100/255, 192/255, 232/255)]\n",
    "    bkg_colors = [item for item, count in zip(colors, repeat) for i in range(count)]\n",
    "    \n",
    "    \n",
    "    ### Plotting ###\n",
    "    plt.figure(figsize=(8,5))\n",
    "\n",
    "    plt.hist(\n",
    "        np.tile(bin_centers, (len(bkgMC_counts),1)).tolist(), weights=bkgMC_counts, bins=edges,\n",
    "        alpha=1., color=bkg_colors[:len(bkgMC_counts)], stacked=True, histtype= 'barstacked'\n",
    "    )\n",
    "                                                                                                  \n",
    "    plt.errorbar(\n",
    "        bin_centers, data_counts, yerr=np.sqrt(data_counts),\n",
    "        fmt='o', ms=4, lw=1, color='black', label='Data', capsize=3\n",
    "    )\n",
    "\n",
    "    plt.hist(\n",
    "        bin_centers, weights=SigMC_counts*mu, bins=edges,\n",
    "        label='MCSig', color='#00A88F', alpha=1.,  histtype=u'step', linewidth=2\n",
    "    )\n",
    "                                                                                                \n",
    "    plt.xlabel(variable, size=16)\n",
    "    plt.ylabel('Counts', size=16)\n",
    "    \n",
    "    ST_patch = patches.Patch(color=bkg_colors[0], label='Single top')\n",
    "    TT_patch = patches.Patch(color=bkg_colors[1], label='top top')\n",
    "    TTW_patch = patches.Patch(color=bkg_colors[5], label=r'tt$\\rightarrow$ W')\n",
    "    TTZ_patch = patches.Patch(color=bkg_colors[6], label=r'tt$\\rightarrow$ Z')\n",
    "    Diboson_patch = patches.Patch(color=bkg_colors[7], label='Diboson')\n",
    "    Others_patch = patches.Patch(color=bkg_colors[-1], label='Others')\n",
    "    MCSig_patch = patches.Patch(color='#00A88F', label='FCNC')\n",
    "    Data = Line2D([0], [0], marker='o', color='w', label='Data', markerfacecolor='black', markersize=7)\n",
    "\n",
    "    plt.legend(handles=[ST_patch,TT_patch, TTW_patch, TTZ_patch, Diboson_patch, Others_patch, MCSig_patch, Data])\n",
    "    plt.tight_layout()\n",
    "    \n",
    "    plt.show()\n",
    "    \n",
    "    return nbins, data_counts, SigMC_counts, bkgMC_counts\n"
   ]
  },
  {
   "cell_type": "code",
   "execution_count": 35,
   "id": "92148eab",
   "metadata": {},
   "outputs": [
    {
     "data": {
      "image/png": "[encoded data removed]",
      "text/plain": [
       "<Figure size 576x360 with 1 Axes>"
      ]
     },
     "metadata": {
      "needs_background": "light"
     },
     "output_type": "display_data"
    }
   ],
   "source": [
    "_, _, _, _ = plot_histogram(final, 'sMuon_pt', (0,200), 30)"
   ]
  },
  {
   "cell_type": "code",
   "execution_count": 36,
   "id": "f6503760",
   "metadata": {},
   "outputs": [
    {
     "data": {
      "image/png": "[encoded data removed]",
      "text/plain": [
       "<Figure size 576x360 with 1 Axes>"
      ]
     },
     "metadata": {
      "needs_background": "light"
     },
     "output_type": "display_data"
    }
   ],
   "source": [
    "inv_m01_nbins, inv_m01_data, inv_m01_SigMC, inv_m01_bkgMC = plot_histogram(final, 'inv_m01', (0,200), 30)"
   ]
  },
  {
   "cell_type": "code",
   "execution_count": 37,
   "id": "ca27897d",
   "metadata": {},
   "outputs": [
    {
     "data": {
      "image/png": "[encoded data removed]",
      "text/plain": [
       "<Figure size 576x360 with 1 Axes>"
      ]
     },
     "metadata": {
      "needs_background": "light"
     },
     "output_type": "display_data"
    }
   ],
   "source": [
    "dR01_nbins, dR01_data, dR01_SigMC, dR01_bkgMC = plot_histogram(final, 'dR01', (0,4), 30)"
   ]
  },
  {
   "cell_type": "code",
   "execution_count": 38,
   "id": "468a0edd",
   "metadata": {},
   "outputs": [],
   "source": [
    "nbins = inv_m01_nbins + dR01_nbins\n",
    "data_count = np.concatenate((inv_m01_data, dR01_data))\n",
    "SigMC_count = np.concatenate((inv_m01_SigMC, dR01_SigMC))\n",
    "bkgMC_count = np.concatenate((np.array(inv_m01_bkgMC).sum(0), np.array(dR01_bkgMC).sum(0)))"
   ]
  },
  {
   "cell_type": "markdown",
   "id": "87bea79d",
   "metadata": {},
   "source": [
    "<a id='9'></a>\n",
    "[Index](#index)\n",
    "### 9. Statistical analysis"
   ]
  },
  {
   "cell_type": "code",
   "execution_count": 39,
   "id": "fd5faeae",
   "metadata": {},
   "outputs": [],
   "source": [
    "import scipy as sp\n",
    "from scipy.stats import poisson as ps\n",
    "\n",
    "def like(x, mu_sig, bkg, mu_best):\n",
    "    return np.prod(ps.pmf(x, mu_sig)), np.prod(ps.pmf(x, bkg)), np.prod(ps.pmf(x, mu_best))"
   ]
  },
  {
   "cell_type": "code",
   "execution_count": 40,
   "id": "69ef7697",
   "metadata": {},
   "outputs": [],
   "source": [
    "def stat(nbin, data, sig, bkg):   \n",
    "        \n",
    "    mu_grid = np.arange(0, 3, 1e-3)\n",
    "    \n",
    "    b_plus_sig = np.outer(sig, mu_grid) + np.tile(bkg,(len(mu_grid),1)).T\n",
    "    \n",
    "    like_grid = np.prod(ps.pmf(np.tile(data,(len(mu_grid),1)).T, b_plus_sig), axis=0)\n",
    "    mu_best = mu_grid[np.argmax(like_grid)]\n",
    "    b_plus_sig_best = bkg + sig*mu_best\n",
    "      \n",
    "    ntoys = int(1e5)\n",
    "    bin_toys = 100 \n",
    "    \n",
    "    mu_min = mu_best+1e-7\n",
    "    mu_max = mu_best+3\n",
    "    \n",
    "    for i in range(30):\n",
    "        mu = (mu_min+mu_max)/2\n",
    "        \n",
    "        b_plus_sig_mu = bkg + sig*mu\n",
    "        \n",
    "        toys = sc.parallelize(np.tile(b_plus_sig_mu, (ntoys,1))).map(lambda x: ps.rvs(x))\n",
    "        \n",
    "        like_tot = toys.map(lambda x: like(x, b_plus_sig_mu, bkg, b_plus_sig_best))\n",
    "        \n",
    "        q_mu = np.array(like_tot.map(lambda x: (-2*np.log(x[1]/x[2]), -2*np.log(x[0]/x[2]))).take(ntoys))\n",
    "        q_mu0 = q_mu[:,0]\n",
    "        q_mu1 = q_mu[:,1]\n",
    "        \n",
    "        like_num_obs = np.prod(ps.pmf(data, b_plus_sig_mu))\n",
    "        like_den_obs = np.prod(ps.pmf(data, b_plus_sig_best))\n",
    "        q_mu_obs = -2 * np.log(like_num_obs/like_den_obs)\n",
    "        \n",
    "        ### H0 ###\n",
    "        values_0, bins_0, _ = plt.hist(q_mu0, bins=bin_toys, density=True)\n",
    "        plt.close()\n",
    "        mask = (bins_0 > q_mu_obs)\n",
    "        p_b = sum(np.diff(bins_0[mask])*values_0[mask[:-1]])\n",
    "        \n",
    "        ### H1 ###\n",
    "        values_1, bins_1, _ = plt.hist(q_mu1, bins=bin_toys, density=True)\n",
    "        plt.close()\n",
    "        mask = (bins_1 > q_mu_obs)\n",
    "        p_mu = sum(np.diff(bins_1[mask])*values_1[mask[:-1]])\n",
    "        \n",
    "        if p_b == 0:\n",
    "            mu_max = mu\n",
    "            continue\n",
    "        \n",
    "        CL = p_mu/p_b\n",
    "        \n",
    "        if CL < 0.05: mu_max = mu\n",
    "        else: mu_min = mu\n",
    "    \n",
    "    plt.figure(figsize=(8, 5))\n",
    "    plt.hist(q_mu0, bins=bin_toys, alpha=0.5, color='red', density=True, label='$H_0$')\n",
    "    plt.hist(q_mu1, bins=bin_toys, alpha=0.5, color='blue', density=True, label='$H_1$')\n",
    "    plt.ylim((0,0.15))\n",
    "    plt.axvline(q_mu_obs, color='#00A88F', label='$q^{obs}(\\mu)$')\n",
    "    plt.title(r'Distributions of $q(\\mu)_0$ and $q(\\mu)_1$')\n",
    "    plt.xlabel(r'$q(\\mu)$', size=16)\n",
    "    plt.legend(frameon=False)\n",
    "    plt.show()\n",
    "            \n",
    "    significance = -sp.stats.norm.ppf(p_b)\n",
    "        \n",
    "    return mu, mu_best, CL, significance"
   ]
  },
  {
   "cell_type": "code",
   "execution_count": 41,
   "id": "cec7ff69",
   "metadata": {},
   "outputs": [
    {
     "data": {
      "image/png": "[encoded data removed]",
      "text/plain": [
       "<Figure size 576x360 with 1 Axes>"
      ]
     },
     "metadata": {
      "needs_background": "light"
     },
     "output_type": "display_data"
    }
   ],
   "source": [
    "mustar, mu_hat, CL, signif = stat(nbins, data_count, SigMC_count, bkgMC_count)"
   ]
  },
  {
   "cell_type": "code",
   "execution_count": 42,
   "id": "c6e0832c",
   "metadata": {},
   "outputs": [
    {
     "name": "stdout",
     "output_type": "stream",
     "text": [
      "mu limit: 3.784\n"
     ]
    }
   ],
   "source": [
    "print('mu limit:', round(mustar,3))"
   ]
  },
  {
   "cell_type": "markdown",
   "id": "d8b0777e",
   "metadata": {},
   "source": [
    "<a id='10'></a>\n",
    "[Index](#index)\n",
    "### 10. Final results"
   ]
  },
  {
   "cell_type": "code",
   "execution_count": 43,
   "id": "60414c79",
   "metadata": {},
   "outputs": [
    {
     "data": {
      "image/png": "[encoded data removed]",
      "text/plain": [
       "<Figure size 576x360 with 1 Axes>"
      ]
     },
     "metadata": {
      "needs_background": "light"
     },
     "output_type": "display_data"
    }
   ],
   "source": [
    "_, _, _, _ = plot_histogram(final, 'inv_m01', (0,200), 30, compute=False, mu=mu_hat,\n",
    "                            data_counts=inv_m01_data, SigMC_counts=inv_m01_SigMC, bkgMC_counts=inv_m01_bkgMC)"
   ]
  },
  {
   "cell_type": "code",
   "execution_count": 44,
   "id": "f66c7ba7",
   "metadata": {},
   "outputs": [
    {
     "data": {
      "image/png": "[encoded data removed]",
      "text/plain": [
       "<Figure size 576x360 with 1 Axes>"
      ]
     },
     "metadata": {
      "needs_background": "light"
     },
     "output_type": "display_data"
    }
   ],
   "source": [
    "_, _, _, _ = plot_histogram(final, 'dR01', (0,4), 30, compute=False, mu=mu_hat,\n",
    "                            data_counts=dR01_data, SigMC_counts=dR01_SigMC,\n",
    "                            bkgMC_counts=dR01_bkgMC)"
   ]
  },
  {
   "cell_type": "markdown",
   "id": "2738f82e",
   "metadata": {},
   "source": [
    "#### Stop Spark context"
   ]
  },
  {
   "cell_type": "code",
   "execution_count": 45,
   "id": "ecd9c4c9",
   "metadata": {},
   "outputs": [],
   "source": [
    "sc.stop()\n",
    "spark.stop()"
   ]
  }
 ],
 "metadata": {
  "kernelspec": {
   "display_name": "Python 3 (ipykernel)",
   "language": "python",
   "name": "python3"
  },
  "language_info": {
   "codemirror_mode": {
    "name": "ipython",
    "version": 3
   },
   "file_extension": ".py",
   "mimetype": "text/x-python",
   "name": "python",
   "nbconvert_exporter": "python",
   "pygments_lexer": "ipython3",
   "version": "3.9.12"
  }
 },
 "nbformat": 4,
 "nbformat_minor": 5
}
