{
 "cells": [
  {
   "cell_type": "markdown",
   "id": "a898e68e",
   "metadata": {},
   "source": [
    "## WEEK 7: Transverse Ising model of N spin-1/2 particles on a 1D lattice\n",
    "### Quantum Information and Computing (2021/22)\n",
    "#### Prof. Simone Montangero\n",
    "\n",
    "### Samuele Piccinelli\n",
    "#### 21 December 2021"
   ]
  },
  {
   "cell_type": "code",
   "execution_count": 1,
   "metadata": {},
   "outputs": [],
   "source": [
    "import numpy as np\n",
    "import subprocess as sp\n",
    "import sys\n",
    "import os"
   ]
  },
  {
   "cell_type": "code",
   "execution_count": 2,
   "metadata": {},
   "outputs": [
    {
     "data": {
      "text/plain": [
       "CompletedProcess(args=['gfortran', 'ising1d.f90', 'demo.f90', '-o', 'ising.out', '-llapack'], returncode=0, stdout='', stderr='')"
      ]
     },
     "execution_count": 2,
     "metadata": {},
     "output_type": "execute_result"
    }
   ],
   "source": [
    "# Define exec and program name\n",
    "src = 'demo.f90'\n",
    "exe = 'ising.out'\n",
    "\n",
    "# Clean output files\n",
    "os.system('rm *.out')\n",
    "os.system('rm *.dat')\n",
    "\n",
    "# Compile program\n",
    "cmd = ['gfortran', 'ising1d.f90', src, '-o', exe, '-llapack']\n",
    "sp.run(cmd, stdout=sp.PIPE, stderr=sp.PIPE, encoding='utf-8')"
   ]
  },
  {
   "cell_type": "markdown",
   "metadata": {},
   "source": [
    "#### 1. Monitor performance"
   ]
  },
  {
   "cell_type": "code",
   "execution_count": 3,
   "metadata": {},
   "outputs": [],
   "source": [
    "Nmin  = 2\n",
    "Nmax  = 12\n",
    "Nstep = 1\n",
    "\n",
    "L = 1.5\n",
    "K = 5\n",
    "perf_flag = 'y'"
   ]
  },
  {
   "cell_type": "code",
   "execution_count": 4,
   "metadata": {},
   "outputs": [
    {
     "name": "stdout",
     "output_type": "stream",
     "text": [
      "N range: [ 2 ,  12 ]\n"
     ]
    }
   ],
   "source": [
    "Ns = np.arange(Nmin, Nmax + Nstep, Nstep, dtype=int)\n",
    "print('N range: [', Nmin, ', ', Nmax, ']')"
   ]
  },
  {
   "cell_type": "code",
   "execution_count": 5,
   "metadata": {},
   "outputs": [],
   "source": [
    "for N in Ns:\n",
    "    # print('Running for N = ', N)\n",
    "    res = sp.run(['./' + exe, str(N), str(L), str(K), perf_flag], stdout=sp.PIPE, stderr=sp.PIPE, encoding='utf-8')\n",
    "    # print(res.stdout)\n",
    "\n",
    "    if (res.stderr):\n",
    "        print('stderr :', res.stderr)"
   ]
  },
  {
   "cell_type": "markdown",
   "metadata": {},
   "source": [
    "#### 2. Compute and store eigenvalues"
   ]
  },
  {
   "cell_type": "code",
   "execution_count": 6,
   "metadata": {},
   "outputs": [],
   "source": [
    "Nmin  = 2\n",
    "Nmax  = 10\n",
    "Nstep = 1\n",
    "\n",
    "Lmin  = 0\n",
    "Lmax  = 3\n",
    "Lstep = 0.1\n",
    "\n",
    "K = 5\n",
    "perf_flag = 'n'"
   ]
  },
  {
   "cell_type": "code",
   "execution_count": 7,
   "metadata": {},
   "outputs": [
    {
     "name": "stdout",
     "output_type": "stream",
     "text": [
      "N range: [ 2 ,  10 ]\n",
      "L range: [ 0 ,  3 ]\n"
     ]
    }
   ],
   "source": [
    "Ns = np.arange(Nmin, Nmax + Nstep, Nstep, dtype=int)\n",
    "Ls = np.arange(Lmin, Lmax + Lstep, Lstep, dtype=float)\n",
    "\n",
    "print('N range: [', Nmin, ', ', Nmax, ']')\n",
    "print('L range: [', Lmin, ', ', Lmax, ']')"
   ]
  },
  {
   "cell_type": "code",
   "execution_count": 8,
   "metadata": {},
   "outputs": [],
   "source": [
    "for N in Ns:\n",
    "    for L in Ls:\n",
    "        # print('Running for N = ', N + ' L = ', L)\n",
    "        result = sp.run(['./' + exe, str(N), str(round(L,2)), str(K), perf_flag], stdout=sp.PIPE, stderr=sp.PIPE, encoding='utf-8')\n",
    "        # print(result.stdout)\n",
    "\n",
    "        if (result.stderr):\n",
    "            print('stderr :', result.stderr)"
   ]
  }
 ],
 "metadata": {
  "interpreter": {
   "hash": "1ecf2d27aabcf9a80842213253a3fda93a5ea4567e7eeb7eaacecd926a39e1d5"
  },
  "kernelspec": {
   "display_name": "Python 3.9.7 64-bit ('base': conda)",
   "language": "python",
   "name": "python3"
  },
  "language_info": {
   "codemirror_mode": {
    "name": "ipython",
    "version": 3
   },
   "file_extension": ".py",
   "mimetype": "text/x-python",
   "name": "python",
   "nbconvert_exporter": "python",
   "pygments_lexer": "ipython3",
   "version": "3.9.7"
  },
  "orig_nbformat": 4
 },
 "nbformat": 4,
 "nbformat_minor": 2
}
