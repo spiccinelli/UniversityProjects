{
 "cells": [
  {
   "cell_type": "markdown",
   "id": "a898e68e",
   "metadata": {},
   "source": [
    "## WEEK 3: Scaling of matrix-matrix multiplication\n",
    "### Quantum Information and Computing (2021/22)\n",
    "\n",
    "### Samuele Piccinelli\n",
    "#### 23 November 2021"
   ]
  },
  {
   "cell_type": "markdown",
   "id": "8ac434b8",
   "metadata": {},
   "source": [
    "#### 1. Import libraries and useful dependencies"
   ]
  },
  {
   "cell_type": "code",
   "execution_count": 1,
   "id": "69c07073",
   "metadata": {},
   "outputs": [],
   "source": [
    "import numpy as np\n",
    "import subprocess as sp\n",
    "\n",
    "# plot settings\n",
    "import matplotlib\n",
    "import matplotlib.pyplot as plt\n",
    "plt.rc('font',**{'size':16, 'family':'serif','serif':['Computer Modern Roman']})\n",
    "plt.rc('text', usetex=True)\n",
    "plt.rc('mathtext', **{'fontset':'cm'})\n",
    "plt.rc('xtick', labelsize = 16)\n",
    "plt.rc('ytick', labelsize = 16)"
   ]
  },
  {
   "cell_type": "code",
   "execution_count": 2,
   "id": "dc6e81c6",
   "metadata": {},
   "outputs": [],
   "source": [
    "# returns optimal figsize to include in LaTeX document\n",
    "def latex_figsize(wf=0.5, hf=(5.**0.5-1.0)/2.0, columnwidth=469.7550):\n",
    "    fig_width_pt = columnwidth*wf \n",
    "    inches_per_pt = 1.0/72.27\n",
    "    fig_width = fig_width_pt*inches_per_pt\n",
    "    fig_height = fig_width*hf\n",
    "    return [fig_width, fig_height]"
   ]
  },
  {
   "cell_type": "markdown",
   "id": "352822d6",
   "metadata": {},
   "source": [
    "#### 2. Launch FORTRAN script and get terminal output"
   ]
  },
  {
   "cell_type": "code",
   "execution_count": 3,
   "id": "321df417",
   "metadata": {},
   "outputs": [],
   "source": [
    "# declare grid of values\n",
    "N_min  = 50\n",
    "N_max  = 2000\n",
    "\n",
    "# default is 50 step\n",
    "Ns = np.logspace(np.log10(N_min), np.log10(N_max), num=25, dtype=int)\n",
    "\n",
    "N_times = 5"
   ]
  },
  {
   "cell_type": "code",
   "execution_count": 4,
   "id": "81dee6cd",
   "metadata": {},
   "outputs": [
    {
     "data": {
      "text/plain": [
       "CompletedProcess(args=['gfortran', 'checkpoint.f90', 'debug_matmul.f90', 'routine.f90', 'performance.f90', '-o', 'performance.out'], returncode=0)"
      ]
     },
     "execution_count": 4,
     "metadata": {},
     "output_type": "execute_result"
    }
   ],
   "source": [
    "# compile and get executable\n",
    "src = 'performance.f90'\n",
    "exe = 'performance.out'\n",
    "sp.run(['gfortran', 'checkpoint.f90', 'debug_matmul.f90', 'routine.f90', src, '-o', exe])"
   ]
  },
  {
   "cell_type": "code",
   "execution_count": 5,
   "id": "4966ac55",
   "metadata": {},
   "outputs": [],
   "source": [
    "# get terminal output: https://bit.ly/30Fwj0e\n",
    "def get_output(N):\n",
    "    output = sp.Popen( [('./' + exe), str(N)], stdout=sp.PIPE ).communicate()[0]\n",
    "    times = output.decode('utf-8').split()\n",
    "    return np.array([float(time) for time in times])"
   ]
  },
  {
   "cell_type": "code",
   "execution_count": 6,
   "id": "e4aa1e26",
   "metadata": {},
   "outputs": [],
   "source": [
    "# declare empty vectors to host results\n",
    "by_row = np.zeros(len(Ns))\n",
    "by_col = np.zeros(len(Ns))\n",
    "matmul = np.zeros(len(Ns))\n",
    "\n",
    "std_by_row = np.zeros(len(Ns))\n",
    "std_by_col = np.zeros(len(Ns))\n",
    "std_matmul = np.zeros(len(Ns))"
   ]
  },
  {
   "cell_type": "code",
   "execution_count": 7,
   "id": "fbea1269",
   "metadata": {
    "scrolled": true
   },
   "outputs": [
    {
     "name": "stdout",
     "output_type": "stream",
     "text": [
      "Running \"performance.out\" for N = 49\n",
      "Running \"performance.out\" for N = 58\n",
      "Running \"performance.out\" for N = 67\n",
      "Running \"performance.out\" for N = 79\n",
      "Running \"performance.out\" for N = 92\n",
      "Running \"performance.out\" for N = 107\n",
      "Running \"performance.out\" for N = 125\n",
      "Running \"performance.out\" for N = 146\n",
      "Running \"performance.out\" for N = 170\n",
      "Running \"performance.out\" for N = 199\n",
      "Running \"performance.out\" for N = 232\n",
      "Running \"performance.out\" for N = 271\n",
      "Running \"performance.out\" for N = 316\n",
      "Running \"performance.out\" for N = 368\n",
      "Running \"performance.out\" for N = 430\n",
      "Running \"performance.out\" for N = 501\n",
      "Running \"performance.out\" for N = 584\n",
      "Running \"performance.out\" for N = 681\n",
      "Running \"performance.out\" for N = 795\n",
      "Running \"performance.out\" for N = 927\n",
      "Running \"performance.out\" for N = 1081\n",
      "Running \"performance.out\" for N = 1261\n",
      "Running \"performance.out\" for N = 1470\n",
      "Running \"performance.out\" for N = 1715\n",
      "Running \"performance.out\" for N = 2000\n"
     ]
    }
   ],
   "source": [
    "for ii, n in enumerate(Ns):\n",
    "    print('Running \"' + exe + '\" for N = ' + str(n))\n",
    "    res = np.zeros((3, N_times))\n",
    "    \n",
    "    for jj in range(N_times):\n",
    "        res[:,jj] = get_output(n)\n",
    "        \n",
    "    # compute and store mean\n",
    "    by_row[ii] = np.mean(res[0,:])\n",
    "    by_col[ii] = np.mean(res[1,:])\n",
    "    matmul[ii] = np.mean(res[2,:])\n",
    "    # compute and store standard deviation\n",
    "    std_by_row[ii] = np.std(res[0,:]) / np.sqrt(N_times)\n",
    "    std_by_col[ii] = np.std(res[1,:]) / np.sqrt(N_times)\n",
    "    std_matmul[ii] = np.std(res[2,:]) / np.sqrt(N_times)"
   ]
  },
  {
   "cell_type": "markdown",
   "id": "be6fd740",
   "metadata": {},
   "source": [
    "#### 3. Write results on file"
   ]
  },
  {
   "cell_type": "code",
   "execution_count": 8,
   "id": "0282a92b",
   "metadata": {},
   "outputs": [],
   "source": [
    "# concatenate results\n",
    "by_row = np.column_stack((Ns, by_row, std_by_row))\n",
    "by_col = np.column_stack((Ns, by_col, std_by_col))\n",
    "matmul = np.column_stack((Ns, matmul, std_matmul))"
   ]
  },
  {
   "cell_type": "code",
   "execution_count": 9,
   "id": "62a2871a",
   "metadata": {},
   "outputs": [],
   "source": [
    "# write on file\n",
    "np.savetxt('ex1/by_row.dat', by_row)\n",
    "np.savetxt('ex1/by_col.dat', by_col)\n",
    "np.savetxt('ex1/matmul.dat', matmul)"
   ]
  },
  {
   "cell_type": "markdown",
   "id": "580ba118",
   "metadata": {},
   "source": [
    "#### 4. Load and plot results"
   ]
  },
  {
   "cell_type": "code",
   "execution_count": 4,
   "id": "8689be6d",
   "metadata": {},
   "outputs": [],
   "source": [
    "by_row = np.loadtxt('ex1/by_row.dat')\n",
    "by_col = np.loadtxt('ex1/by_col.dat')\n",
    "matmul = np.loadtxt('ex1/matmul.dat')"
   ]
  },
  {
   "cell_type": "code",
   "execution_count": 5,
   "id": "b2d69b20",
   "metadata": {},
   "outputs": [],
   "source": [
    "from scipy.optimize import curve_fit ## sistema\n",
    "\n",
    "def func(x, a, b):\n",
    "    return a * x + b"
   ]
  },
  {
   "cell_type": "code",
   "execution_count": 9,
   "id": "c7c9fb6d",
   "metadata": {},
   "outputs": [
    {
     "data": {
      "image/png": "[encoded data removed]",
      "text/plain": [
       "<Figure size 468x289.24 with 1 Axes>"
      ]
     },
     "metadata": {
      "needs_background": "light"
     },
     "output_type": "display_data"
    }
   ],
   "source": [
    "fig, ax = plt.subplots(figsize=latex_figsize(wf=1.))\n",
    "\n",
    "ax.errorbar(by_row[:,0], by_row[:,1], yerr=by_row[:,2], fmt='+r', ecolor='firebrick',\\\n",
    "            elinewidth=3, markersize=12, mew=1, capsize=6, label='by row')\n",
    "\n",
    "ax.errorbar(by_col[:,0], by_col[:,1], yerr=by_col[:,2], fmt='+b', ecolor='royalblue',\\\n",
    "            elinewidth=3, markersize=12, mew=1, capsize=6, label='by column')\n",
    "\n",
    "ax.errorbar(matmul[:,0], matmul[:,1], yerr=matmul[:,2], fmt='+g', ecolor='forestgreen',\\\n",
    "            elinewidth=3, markersize=12, mew=1, capsize=6, label='MATMUL')\n",
    "\n",
    "alpha = np.linspace(N_min, N_max, 1000)\n",
    "\n",
    "popt_by_row, pcov_by_row = curve_fit(func, np.log10(by_row[:,0]), np.log10(by_row[:,1]))\n",
    "popt_by_col, pcov_by_col = curve_fit(func, np.log10(by_col[:,0]), np.log10(by_col[:,1]))\n",
    "popt_matmul, pcov_matmul = curve_fit(func, np.log10(matmul[:,0]), np.log10(matmul[:,1]))\n",
    "\n",
    "plt.plot(alpha, 10**(func(np.log10(alpha), *popt_by_row)), ':', color='darkred') #label='$\\log(y)=3.04\\log(x)-8.0$'\n",
    "plt.plot(alpha, 10**(func(np.log10(alpha), *popt_by_col)), ':', color='darkblue') #label='$\\log(y)=2.61\\log(x)-7.2$'\n",
    "plt.plot(alpha, 10**(func(np.log10(alpha), *popt_matmul)), ':', color='darkgreen') #label='$\\log(y)=2.19\\log(x)-7.6$'\n",
    "\n",
    "ax.set_title('Performance comparison:\\\\ linear fit in $\\log$-$\\log$ scale')\n",
    "ax.set_ylabel('CPU time (s)')\n",
    "ax.set_xlabel('$N$')\n",
    "ax.set_xscale('log')\n",
    "ax.set_yscale('log')\n",
    "ax.grid(True, which='major', ls='--')\n",
    "ax.legend(handlelength=1, frameon=False)\n",
    "\n",
    "plt.savefig('by_fit.pdf', bbox_inches='tight', dpi=150)\n",
    "plt.show()"
   ]
  },
  {
   "cell_type": "code",
   "execution_count": 15,
   "id": "9fd23171",
   "metadata": {},
   "outputs": [
    {
     "name": "stdout",
     "output_type": "stream",
     "text": [
      "fit by row: a=3.035, b=-8.002\n",
      "fit by row: a=0.078, b=0.198\n"
     ]
    }
   ],
   "source": [
    "print('fit by row: a=%5.3f, b=%5.3f' % tuple(popt_by_row))\n",
    "print('fit by row: a=%5.3f, b=%5.3f' % tuple(np.sqrt(np.diag(pcov_by_row))))"
   ]
  },
  {
   "cell_type": "code",
   "execution_count": 16,
   "id": "7480f0ae",
   "metadata": {},
   "outputs": [
    {
     "name": "stdout",
     "output_type": "stream",
     "text": [
      "fit by col: a=2.608, b=-7.169\n",
      "fit by col: a=0.052, b=0.133\n"
     ]
    }
   ],
   "source": [
    "print('fit by col: a=%5.3f, b=%5.3f' % tuple(popt_by_col))\n",
    "print('fit by col: a=%5.3f, b=%5.3f' % tuple(np.sqrt(np.diag(pcov_by_col))))"
   ]
  },
  {
   "cell_type": "code",
   "execution_count": 17,
   "id": "3907833b",
   "metadata": {},
   "outputs": [
    {
     "name": "stdout",
     "output_type": "stream",
     "text": [
      "fit matmul: a=2.185, b=-7.560\n",
      "fit matmul: a=0.086, b=0.219\n"
     ]
    }
   ],
   "source": [
    "print('fit matmul: a=%5.3f, b=%5.3f' % tuple(popt_matmul))\n",
    "print('fit matmul: a=%5.3f, b=%5.3f' % tuple(np.sqrt(np.diag(pcov_matmul))))"
   ]
  }
 ],
 "metadata": {
  "kernelspec": {
   "display_name": "Python 3 (ipykernel)",
   "language": "python",
   "name": "python3"
  },
  "language_info": {
   "codemirror_mode": {
    "name": "ipython",
    "version": 3
   },
   "file_extension": ".py",
   "mimetype": "text/x-python",
   "name": "python",
   "nbconvert_exporter": "python",
   "pygments_lexer": "ipython3",
   "version": "3.9.7"
  }
 },
 "nbformat": 4,
 "nbformat_minor": 5
}
