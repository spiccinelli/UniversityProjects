{
 "cells": [
  {
   "cell_type": "markdown",
   "id": "cf7c7d66",
   "metadata": {},
   "source": [
    "<h1 align='center'>Final assignment of \"Laboratory of Computational Physics\"</h1>\n",
    "<img align='right' src='https://www.unidformazione.com/wp-content/uploads/2018/04/unipd-universita-di-padova.png' alt='Drawing' style='width:400px;'/>\n",
    "\n",
    "\n",
    "<h2 align='left'>Search for flavor-changing neutral currents <br>in $t\\bar{t}$ processes in multilepton final states in <br> proton-proton collisions with the CMS detector</h2>\n",
    "\n",
    "\n",
    "<h3 align='left'>University of Padua - Physics of Data</h3>\n",
    "<h4 align='left'>Dott. Alberto Zucchetta, Prof. Marco Zanetti</h4>\n",
    "\n",
    "**Name** | **ID number** | **mail**@studenti.unipd.it\n",
    ":-:|:-:|-:\n",
    "Chiara Maccani | 2027591 | chiara.maccani\n",
    "Samuele Piccinelli | 2027650 | samuele.piccinelli\n",
    "Tommaso Stentella | 2027586 | tommaso.stentella\n",
    "Cristina Venturini | 2022461 | cristina.venturini.5"
   ]
  },
  {
   "cell_type": "markdown",
   "id": "a4e87942",
   "metadata": {},
   "source": [
    "<div class=\"alert-success\">\n",
    "<h2 align='center'>Event selection: constructing high level features and plotting</h2>\n",
    "</div>"
   ]
  },
  {
   "cell_type": "markdown",
   "id": "585cc89e",
   "metadata": {},
   "source": [
    "<a id='index'></a>\n",
    "### Index\n",
    "\n",
    "#### 1. [Loading data](#1)\n",
    "#### 2. [Data skimming](#2)\n",
    "#### 3. [High level features (HLF) construction](#3)\n",
    "#### 4. [Produce histograms](#4)\n",
    "#### 5. [Implementation of the plotting step of the analysis](#5)\n",
    "#### 6. [Cut significance](#6)\n",
    "#### 7. [Write the snapshots to disk](#7)\n",
    "#### 8. [Bibliography](#8)"
   ]
  },
  {
   "cell_type": "code",
   "execution_count": 1,
   "id": "1b9e6411",
   "metadata": {},
   "outputs": [
    {
     "name": "stdout",
     "output_type": "stream",
     "text": [
      "Welcome to JupyROOT 6.24/00\n"
     ]
    }
   ],
   "source": [
    "# - import libraries and useful dependencies\n",
    "\n",
    "import ROOT\n",
    "import ROOT.ROOT as rr\n",
    "import uproot\n",
    "import numpy as np\n",
    "import pandas as pd\n",
    "import os\n",
    "from pathlib import Path\n",
    "import awkward as ak\n",
    "import random\n",
    "\n",
    "import FilterFunctions as ff\n",
    "import cpp"
   ]
  },
  {
   "cell_type": "markdown",
   "id": "86750d49",
   "metadata": {},
   "source": [
    "<a id='1'></a>\n",
    "[Index](#index)\n",
    "### 1. Loading data\n",
    "\n",
    "The skimming step reduces the inital generic samples to a dataset optimized for this specific analysis. Data, in form of `.root` files are divided based on the data, signal and specific MC process tag by means of the `loadData` function.\n",
    "\n",
    "Each `TTree` object, representing a columnar dataset and allowing a easy interface with Python, are concatenated by means of a `Chain` which are then loaded in a `RDataFrame` object.\n",
    "\n",
    "All background processes considered are listed in `listBkgDir`."
   ]
  },
  {
   "cell_type": "code",
   "execution_count": 2,
   "id": "33b0a069",
   "metadata": {},
   "outputs": [],
   "source": [
    "dirBasePath  = '/data/FCNC/'\n",
    "dirOutPath = '/data/Skim/'\n",
    "dirPlotPath = './Plots/'\n",
    "\n",
    "listDir = os.listdir(dirBasePath)"
   ]
  },
  {
   "cell_type": "code",
   "execution_count": 3,
   "id": "59c4bf09",
   "metadata": {},
   "outputs": [],
   "source": [
    "def returnDir(string):\n",
    "    return [filename for filename in listDir if filename.startswith(string)]\n",
    "\n",
    "def loadData(chain, pathDirs, info=False):\n",
    "    # Set up multi-threading capability of ROOT\n",
    "    rr.EnableImplicitMT()\n",
    "    \n",
    "    for Dir in pathDirs:\n",
    "        if info: print('>>> Process directory ', Dir)\n",
    "        file_list = os.listdir(dirBasePath + Dir)\n",
    "        for file in file_list:\n",
    "            chain.AddFile(dirBasePath + Dir + '/' + file)\n",
    "            \n",
    "    return chain\n",
    "\n",
    "def CountEvents(df, info=True):\n",
    "    n = df.Count().GetValue()\n",
    "    if info: print('\\nNumber of events:', n, '\\n')\n",
    "    return n\n",
    "\n",
    "# Retrieve a histogram from the input file based on the process and the variable name\n",
    "def getHistogram(tfile, name, variable, tag=''):\n",
    "    name = '{}_{}{}'.format(name, variable, tag)\n",
    "    h = tfile.Get(name)\n",
    "    if not h:\n",
    "        raise Exception('Failed to load histogram {}.'.format(name))\n",
    "    return h"
   ]
  },
  {
   "cell_type": "code",
   "execution_count": 4,
   "id": "3d2c96f9",
   "metadata": {},
   "outputs": [],
   "source": [
    "# - Data + MC Signal\n",
    "signalDirs = returnDir('SingleMuon')\n",
    "signalMCDirs = returnDir('TT_FCNC')\n",
    "\n",
    "# - MC backgrounds\n",
    "listBkgDir = ['ST_', 'TTTT_Tune', 'TTTo2L2Nu', 'TTToHadronic', 'TTToSemiLeptonic', 'TTWJetsToLNu', 'TTZToLLNuNu',\n",
    "              'WGToLNuG', 'WJetsToLNu', 'WWTo2L2Nu', 'WWW', 'WWZ', 'WZG', 'WZTo1L1Nu2Q', 'WZTo2L2Q', 'WZTo3LNu',\n",
    "              'WZZ', 'WmWmJJ', 'WminusH', 'WpWpJJ', 'ZG', 'ZZ', 'tZq']\n",
    "\n",
    "bkgMCDirs = dict(list(zip(listBkgDir, map(returnDir, listBkgDir))))\n",
    "bkgMCChain = dict(list(zip(listBkgDir, [ROOT.TChain('Events') for _ in range(len(listBkgDir))])))"
   ]
  },
  {
   "cell_type": "code",
   "execution_count": 5,
   "id": "57eb03dc",
   "metadata": {
    "scrolled": true
   },
   "outputs": [],
   "source": [
    "# - Load Data + MC Signal\n",
    "\n",
    "chainSig = ROOT.TChain('Events')\n",
    "dfData = rr.RDataFrame(loadData(chainSig, signalDirs))\n",
    "# CountEvents(dfData)\n",
    "\n",
    "chainMC = ROOT.TChain('Events')\n",
    "dfMCSig = rr.RDataFrame(loadData(chainMC, signalMCDirs))\n",
    "# CountEvents(dfMCSig)"
   ]
  },
  {
   "cell_type": "code",
   "execution_count": 6,
   "id": "7c5a62d9",
   "metadata": {
    "scrolled": false
   },
   "outputs": [],
   "source": [
    "# - Load MC backgrounds\n",
    "\n",
    "dfMCBkg = {}\n",
    "for key, value in bkgMCDirs.items():\n",
    "    dfMCBkg[key] = rr.RDataFrame(loadData(bkgMCChain[key], value))\n",
    "    # CountEvents(dfMCBkg[key])"
   ]
  },
  {
   "cell_type": "markdown",
   "id": "755d1eb5",
   "metadata": {},
   "source": [
    "<a id='2'></a>\n",
    "[Index](#index)\n",
    "### 2. Data skimming\n",
    "\n",
    "The first step of the analysis consists in applying cuts to the data in order to select the events that have characteristics matching those of the desired final states.<br>\n",
    "In this initial stage we want to obtain agreement between data and background for the non-discriminating variables. In particular for the iSkim 2 category tighter cuts were needed in order to achieve this.\n",
    "\n",
    "In the table below we show the cuts for each category implemented in the `FSkim` functions contained in the `FilterFunction.py` script.\n",
    "\n",
    "|                  |iSkim1   |iSkim2   |iSkim3   |iSkim4   | \n",
    "|:-----------------|:------:|:-----:|:------:|:------:|\n",
    "|Muon $p_T$| $>15$ | $>27$| $>15$ |$>15$  | \n",
    "|Electron $p_T$    | $-$    | $>20$  | $-$    |$>15$   |\n",
    "|Muon / Electron Iso      | $<$ $0.15$| $<$ $0.1$ | $<$ $0.15$|$<$ $0.15$ |\n",
    "|Muon / Electron $|\\eta|$ | $<2.5$| $<2.4$| $<2.5$| $<2.5$|\n",
    "|$\\textbf{n Muon}$          | $\\mathbf{2}$    | $\\mathbf{1}$    | $\\mathbf{3}$    | $\\mathbf{2}$    |\n",
    "|$\\textbf{n Electron}$      | $\\mathbf{0}$    | $\\mathbf{1}$    | $\\mathbf{0}$    | $\\mathbf{1}$    |\n",
    "|Jet $p_T$| $>30$ | $>30$| $>30$ |$>30$  |\n",
    "|$\\Delta R( $Jet, $\\ell$ )| $>0.4$ | $>0.4$| $>0.4$ |$>0.4$  |\n",
    "|Jet $|\\eta|$ | $<2.5$| $<2.5$| $<2.5$| $<2.5$|\n",
    "|$\\textbf{n Clean Jet}$      | $\\mathbf{\\geq 4}$    | $\\mathbf{\\geq 4}$   | $\\mathbf{\\geq 2}$  | $\\mathbf{\\geq 2}$   |\n",
    "|b-Jet Deep tag| $>0.6$| $>0.6$| $>0.6$| $>0.6$|\n",
    "|Jet $|\\eta|$ | $<2.5$| $<2.5$| $<2.5$| $<2.5$|\n",
    "|$\\textbf{n b-Jet}$      | $\\mathbf{> 0}$, $\\mathbf{\\leq 2}$    | $\\mathbf{> 0}$, $\\mathbf{\\leq 2}$   | $\\mathbf{ \\geq 1}$  | $\\mathbf{\\geq 1}$   |\n",
    "\n",
    "Furthemore for the tri-lepton categories a filter that rejects events in which all muons have the same charge is applied. "
   ]
  },
  {
   "cell_type": "markdown",
   "id": "1618bffd",
   "metadata": {},
   "source": [
    "<a id='3'></a>\n",
    "[Index](#index)\n",
    "### 3.  High level features (HLF) construction"
   ]
  },
  {
   "cell_type": "markdown",
   "id": "ca8d299f",
   "metadata": {},
   "source": [
    "The next step consists in constructing HLF with the hope of them being discriminant. For this task we refer to the works of [M. Aaboud et al.](https://journals.aps.org/prd/abstract/10.1103/PhysRevD.98.032002).\n",
    "\n",
    "#### Flattening\n",
    "Starting from the vectorial form of branches we select only the variables needed for the subsequent tasks, flattening in this way the tree-like structure of the data.\n",
    "\n",
    "Each lepton is tagged with a number, the meaning of which is different for each iSkim category, as shown in the table below. \n",
    "\n",
    "| | 0|1|2|\n",
    "|:-|:-:|:-:|:-:|\n",
    "|iSkim1 |Muon w/ highest $p_T$ |Muon w/ lowest $p_T$| $$-$$|\n",
    "|iSkim2 | Muon | Electron|$$-$$|\n",
    "|iSkim3 |OS Muon | Muon w/ higher $\\Delta R$ from Muon 0| Muon w/ lowest $\\Delta R$ from Muon 0|\n",
    "|iSkim4 |OS Lepton | Lepton w/ higher $\\Delta R$ from Lepton 0| Lepton w/ lowest $\\Delta R$ from Lepton 0|\n",
    "\n",
    "In the following subsections, we present the tables with the complete description of the variables we constructed. The functions used to define the new branches are implemented in C++ and contained in the `cpp.py` script. They are then called in the `DeclareVariables` functions contained in the `FilterFunction.py` script.\n",
    "\n",
    "#### HLF of di-lepton categories (iSkim1, iSkim2)\n",
    "\n",
    "Variable | Definition\n",
    ":-:|:-:|\n",
    "$$\\eta_{max}$$ | max. absolute value of the pseudo-rapidity of the 2 leptons\n",
    "$$m^{inv}$$ | invariant mass of the leptons\n",
    "$$\\Delta R_{hl/J}$$ | angular separation between the highest $p_T$ lepton direction and the axis of the nearest jet in the ($\\eta$,$\\phi$) plane\n",
    "$$\\Delta R_{ll/J}$$ | angular separation between the lowest $p_T$ lepton direction and the axis of the nearest jet in the ($\\eta$,$\\phi$) plane\n",
    "$$\\Delta R_{lep}$$ | angular separation between the 2 leptons\n",
    "$$\\Delta\\phi_{MET/0}$$ | phase difference between missing transverse energy (MET) and lepton with 0 tag\n",
    "$$\\Delta\\phi_{MET/1}$$ | phase difference between MET and lepton with 1 tag\n",
    "$$ST$$| difference between MET and the scalar sum of all leptons and jets' $p_T$ \n",
    "$$m^{inv}_{Jet/Jet}$$ | invariant mass of 2 not b-tagged jets \n",
    "\n",
    "\n",
    "#### HLF of tri-lepton categories (iSkim3, iSkim4)\n",
    "\n",
    "Variable | Definition\n",
    ":-:|:-:|\n",
    "$$m^{inv}_{0/1}$$ | invariant mass of lepton with tag 0 and lepton with tag 1\n",
    "$$m^{inv}_{0/2}$$ | invariant mass of lepton with tag 0 and lepton with tag 2\n",
    "$$m^{inv}_{1/2}$$ | invariant mass of lepton with tag 1 and lepton with tag 2\n",
    "$$m^{inv}_{3}$$ | invariant mass of all the 3 leptons\n",
    "$$\\Delta R_{1/J}$$ | angular separation between the lepton with tag 1 direction and the axis of the nearest jet in the ($\\eta$,$\\phi$) plane\n",
    "$$\\Delta R_{0/bJ}$$ | angular separation between the lepton with tag 0 direction and the axis of the nearest b-tagged jet in the ($\\eta$,$\\phi$) plane\n",
    "$$\\Delta R_{0/1}$$ | angular separation between the lepton with tag 0 direction and the lepton with tag 1 direction in the ($\\eta$,$\\phi$) plane\n",
    "$$\\Delta R_{0/2}$$ | angular separation between the lepton with tag 0 direction and the lepton with tag 2 direction in the ($\\eta$,$\\phi$) plane\n",
    "$$ST$$| difference between MET and the scalar sum of all leptons and jets' $p_T$ \n",
    "$$\\Delta\\phi_{MET/0}$$ | phase difference between missing transverse energy (MET) and lepton with 0 tag\n",
    "$$\\Delta\\phi_{MET/1}$$ | phase difference between missing transverse energy (MET) and lepton with 1 tag\n",
    "$$\\Delta\\phi_{MET/2}$$ | phase difference between missing transverse energy (MET) and lepton with 2 tag\n",
    "$$m^{inv}_{Jet/Jet}$$ | invariant mass of 2 not b-tagged jets\n",
    "\n",
    "#### Additional Cuts\n",
    "We added additional cuts based on the HLF just created.\n",
    "\n",
    "**Invariant mass**. For all the 4 categories events with reconstructed invariant masses $<15$ GeV are rejected.\n",
    "\n",
    "**Cut in the Z resonant region**. In order to reduce the background contribution from resonant $Z$ production another filter is added:\n",
    "   + _iSkim1_: events in which the two selected leptons have opposite charge and  $|m^{inv} - 91.2 \\text{ GeV}| > 10$ are rejected \n",
    "   + _iSkim2_: no rejections (the selected leptons have different flavour so they can not come from a $Z$ decay)\n",
    "   + _iSkim3_: events with   $|m^{inv}_{0/1} - 91.2 \\text{ GeV}| > 10$ and  $|m^{inv}_{0/2} - 91.2 \\text{ GeV}| > 10$ are rejected \n",
    "   + _iSkim4_: events with  $|m^{inv}_{0/1} - 91.2 \\text{ GeV}| > 10$ and  $|m^{inv}_{0/2} - 91.2 \\text{ GeV}| > 10$ are rejected \n",
    "   \n",
    "**Same Sign (SS) imposition (di-lepton cathegories)**. After having reached the agreement between data and Montecarlo simulations, a filter on the charge of the selected leptons is imposed in order to consider only same sign particles."
   ]
  },
  {
   "cell_type": "markdown",
   "id": "50b85896",
   "metadata": {},
   "source": [
    "<a id='4'></a>\n",
    "[Index](#index)\n",
    "### 4. Produce histograms"
   ]
  },
  {
   "cell_type": "markdown",
   "id": "5d053070",
   "metadata": {},
   "source": [
    "The range of the histogram for each variable is declared in the `ff.SkimRanges` dictionary. Each entry in it contains of the variable name as key and a tuple specifying the histogram layout as value. The tuple sets the number of bins,\n",
    "the lower edge and the upper edge of the histogram.\n",
    "\n",
    "The `make_hist` function loops over the outputs from the skimming step and produces the equired histograms for the final plotting that are saved in a root file. Here, the dictionary entry corresponding to the iSkim category under exam is called in `ff.DeclareVariables[nSkim]` - this time the `save` flag is set to false.\n",
    "\n",
    "By observing the plots, background processes are grouped based on their significance in 6 categories as follows:\n",
    "\n",
    "- Single top;\n",
    "- $t\\bar{t}$;\n",
    "- $t\\bar{t}\\rightarrow \\ell\\nu \\ell\\nu$;\n",
    "- $t\\bar{t}\\rightarrow$ semi-leptonic;\n",
    "- Diboson;\n",
    "- Others.\n",
    "\n",
    "We exluded 2 categories of background processes, the ones referring to the Drell-Yann and QCD processes since their proper handling is done by means of sophisticated data-driven techniques (as shown [here](https://arxiv.org/abs/1110.1368)). Furthermore, their contributions were in clear eccess with respect to the data.\n",
    "\n",
    "The `bookHistogram` function takes into account the correct weighting of each event stored in the `eventWeightLumi` variable. Each MC background category is stacked in the final plot. The uncertainty of the MC simulated events is computed individually for each process and then combined together by adding all the MC contributions in a single histogram of which we only plot the uncertainty.<br>\n",
    "The signal is plotted with an arbitrary normalization obtained by imposing equal number of counts to the background histogram in order to visualize the shape of the distribution.<br>\n",
    "The data histogram is then superimposed."
   ]
  },
  {
   "cell_type": "code",
   "execution_count": null,
   "id": "603d874b",
   "metadata": {},
   "outputs": [],
   "source": [
    "ROOT.gROOT.SetBatch(True)\n",
    "\n",
    "# Book a histogram for a specific variable: takes weights into account\n",
    "def bookHistogram(df, variable, range_):\n",
    "    return df.Histo1D(rr.RDF.TH1DModel(variable, variable, range_[0], range_[1], range_[2]), variable, 'eventWeightLumi')\n",
    "\n",
    "# Write a histogram with a given name to the output ROOT file\n",
    "def writeHistogram(h, name):\n",
    "    h.SetName(name)\n",
    "    h.Write()\n",
    "\n",
    "# Main function of the histogramming step\n",
    "def make_hist(nSkim):\n",
    "    rr.EnableImplicitMT()\n",
    "    ranges = ff.SkimRanges[nSkim]\n",
    "    \n",
    "    # Create output file\n",
    "    tfile = ROOT.TFile(dirPlotPath + 'histogram_{}.root'.format(nSkim), 'RECREATE')\n",
    "    variables = ranges.keys()\n",
    "    \n",
    "    fdfData = ff.DeclareVariables[nSkim](dfData, '', save=False)\n",
    "    fdfMCSig = ff.DeclareVariables[nSkim](dfMCSig, '', save=False)\n",
    "    \n",
    "    # Loop through skimmed datasets and produce histograms of variables\n",
    "    hists = {}\n",
    "    for variable in variables:\n",
    "        hists[variable] = bookHistogram(fdfData, variable, ranges[variable])\n",
    "\n",
    "    hists_sig_mc = {}\n",
    "    for variable in variables:\n",
    "        hists_sig_mc[variable] = bookHistogram(fdfMCSig, variable, ranges[variable])\n",
    "\n",
    "    # Write histograms to output file\n",
    "    for variable in variables:\n",
    "        writeHistogram(hists[variable], '{}_{}'.format('Data', variable))\n",
    "    for variable in variables:\n",
    "        writeHistogram(hists_sig_mc[variable], '{}_{}'.format('MCSig', variable))\n",
    "        \n",
    "    \n",
    "    for key, value in dfMCBkg.items():\n",
    "        fdfMCBkg = ff.DeclareVariables[nSkim](value, '', save=False)\n",
    "        \n",
    "        hists = {}\n",
    "        for variable in variables:\n",
    "            hists[variable] = bookHistogram(fdfMCBkg, variable, ranges[variable])\n",
    "        for variable in variables:\n",
    "            writeHistogram(hists[variable], '{}_{}'.format(key, variable))\n",
    "    \n",
    "    tfile.Close()"
   ]
  },
  {
   "cell_type": "code",
   "execution_count": null,
   "id": "e3258ed1",
   "metadata": {},
   "outputs": [],
   "source": [
    "make_hist(4)"
   ]
  },
  {
   "cell_type": "markdown",
   "id": "5d423810",
   "metadata": {},
   "source": [
    "<a id='5'></a>\n",
    "[Index](#index)\n",
    "### 5. Implementation of the plotting step of the analysis"
   ]
  },
  {
   "cell_type": "code",
   "execution_count": null,
   "id": "90198104",
   "metadata": {},
   "outputs": [],
   "source": [
    "nSkim = 3\n",
    "labels = ff.SkimLabels[nSkim]\n",
    "    \n",
    "# Specify the color for each process:\n",
    "# - Signal\n",
    "colors = {\n",
    "        'Data': ROOT.TColor.GetColor('#BF2229'),\n",
    "        'MCSig': ROOT.TColor.GetColor('#00A88F'),\n",
    "        }\n",
    "# - MC BKG\n",
    "colorsBkg = {\n",
    "    'ST_': ROOT.TColor.GetColor(100, 192, 232),\n",
    "    'TTTT_Tune': ROOT.TColor.GetColor(155, 152, 204),\n",
    "    'TTToHadronic': ROOT.TColor.GetColor(155, 152, 204),\n",
    "    'TTWJetsToLNu': ROOT.TColor.GetColor(155, 152, 204),\n",
    "    'TTZToLLNuNu': ROOT.TColor.GetColor(155, 152, 204),\n",
    "    'TTTo2L2Nu': ROOT.TColor.GetColor(248, 206, 104),\n",
    "    'TTToSemiLeptonic': ROOT.TColor.GetColor(250, 202, 255),\n",
    "    'WGToLNuG': ROOT.TColor.GetColor(222, 90, 106),\n",
    "    'WJetsToLNu': ROOT.TColor.GetColor(222, 90, 106),\n",
    "    'WWTo2L2Nu': ROOT.TColor.GetColor(222, 90, 106),\n",
    "    'WWW': ROOT.TColor.GetColor(222, 90, 106),\n",
    "    'WWZ': ROOT.TColor.GetColor(222, 90, 106),\n",
    "    'WZG': ROOT.TColor.GetColor(222, 90, 106),\n",
    "    'WZTo1L1Nu2Q': ROOT.TColor.GetColor(222, 90, 106),\n",
    "    'WZTo2L2Q': ROOT.TColor.GetColor(222, 90, 106),\n",
    "    'WZTo3LNu': ROOT.TColor.GetColor(222, 90, 106),\n",
    "    'WZZ': ROOT.TColor.GetColor(222, 90, 106),\n",
    "    'WmWmJJ': ROOT.TColor.GetColor(222, 90, 106),\n",
    "    'WminusH': ROOT.TColor.GetColor(222, 90, 106),\n",
    "    'WpWpJJ': ROOT.TColor.GetColor(222, 90, 106),\n",
    "    'ZG': ROOT.TColor.GetColor(222, 90, 106),\n",
    "    'ZZ': ROOT.TColor.GetColor(222, 90, 106),\n",
    "    'tZq': ROOT.TColor.GetColor(6, 138, 43),\n",
    "}"
   ]
  },
  {
   "cell_type": "code",
   "execution_count": null,
   "id": "c97804d9",
   "metadata": {
    "scrolled": true
   },
   "outputs": [],
   "source": [
    "# Main function of the plotting step\n",
    "def plot_hist(variable, nSkim, mu=-1):\n",
    "    \n",
    "    tfile = ROOT.TFile(dirPlotPath + 'histogram_{}.root'.format(nSkim), 'READ')\n",
    "\n",
    "    # Styles\n",
    "    ROOT.gStyle.SetOptStat(0)\n",
    "\n",
    "    ROOT.gStyle.SetCanvasBorderMode(0)\n",
    "    ROOT.gStyle.SetCanvasColor(ROOT.kWhite)\n",
    "    ROOT.gStyle.SetCanvasDefH(600)\n",
    "    ROOT.gStyle.SetCanvasDefW(600)\n",
    "    ROOT.gStyle.SetCanvasDefX(0)\n",
    "    ROOT.gStyle.SetCanvasDefY(0)\n",
    "\n",
    "    ROOT.gStyle.SetPadTopMargin(0.08)\n",
    "    ROOT.gStyle.SetPadBottomMargin(0.13)\n",
    "    ROOT.gStyle.SetPadLeftMargin(0.16)\n",
    "    ROOT.gStyle.SetPadRightMargin(0.05)\n",
    "\n",
    "    ROOT.gStyle.SetHistLineColor(1)\n",
    "    ROOT.gStyle.SetHistLineStyle(0)\n",
    "    ROOT.gStyle.SetHistLineWidth(1)\n",
    "    ROOT.gStyle.SetEndErrorSize(2)\n",
    "    ROOT.gStyle.SetMarkerStyle(20)\n",
    "\n",
    "    ROOT.gStyle.SetOptTitle(0)\n",
    "    ROOT.gStyle.SetTitleFont(42)\n",
    "    ROOT.gStyle.SetTitleColor(1)\n",
    "    ROOT.gStyle.SetTitleTextColor(1)\n",
    "    ROOT.gStyle.SetTitleFillColor(10)\n",
    "    ROOT.gStyle.SetTitleFontSize(0.05)\n",
    "\n",
    "    ROOT.gStyle.SetTitleColor(1, 'XYZ')\n",
    "    ROOT.gStyle.SetTitleFont(42, 'XYZ')\n",
    "    ROOT.gStyle.SetTitleSize(0.05, 'XYZ')\n",
    "    ROOT.gStyle.SetTitleXOffset(1.00)\n",
    "    ROOT.gStyle.SetTitleYOffset(1.60)\n",
    "\n",
    "    ROOT.gStyle.SetLabelColor(1, 'XYZ')\n",
    "    ROOT.gStyle.SetLabelFont(42, 'XYZ')\n",
    "    ROOT.gStyle.SetLabelOffset(0.007, 'XYZ')\n",
    "    ROOT.gStyle.SetLabelSize(0.04, 'XYZ')\n",
    "\n",
    "    ROOT.gStyle.SetAxisColor(1, 'XYZ')\n",
    "    ROOT.gStyle.SetStripDecimals(True)\n",
    "    ROOT.gStyle.SetTickLength(0.03, 'XYZ')\n",
    "    ROOT.gStyle.SetNdivisions(510, 'XYZ')\n",
    "    ROOT.gStyle.SetPadTickX(1)\n",
    "    ROOT.gStyle.SetPadTickY(1)\n",
    "\n",
    "    ROOT.gStyle.SetPaperSize(20., 20.)\n",
    "    ROOT.gStyle.SetHatchesLineWidth(5)\n",
    "    ROOT.gStyle.SetHatchesSpacing(0.05)\n",
    "\n",
    "    ROOT.TGaxis.SetExponentOffset(-0.08, 0.01, 'Y')\n",
    "    \n",
    "    legend = ROOT.TLegend(0.64, 0.70, 0.95, 0.91)\n",
    "    legend.SetNColumns(2)\n",
    "\n",
    "    # Data + MC\n",
    "    data = getHistogram(tfile, 'Data', variable)\n",
    "    MCSig = getHistogram(tfile, 'MCSig', variable)\n",
    "    \n",
    "    stack = ROOT.THStack('', '')\n",
    "    seen, count, areaBkg, first = [], 0, 0, True\n",
    "    titles = ['Single top', 't#bar{t}','t#bar{t}#rightarrow l#nu l#nu',\n",
    "              't#bar{t}#rightarrow s-lep','Diboson', 'Others']\n",
    "    \n",
    "    for key, value in colorsBkg.items():\n",
    "        histo = getHistogram(tfile, key, variable)\n",
    "        histo.SetLineWidth(0)\n",
    "        histo.SetFillColor(value)\n",
    "        areaBkg += histo.Integral('width')\n",
    "        stack.Add(histo)\n",
    "        if first:\n",
    "            bkgError = histo.Clone()\n",
    "            first = False\n",
    "        else:\n",
    "            bkgError.Add(histo)\n",
    "        if value not in seen:\n",
    "            legend.AddEntry(histo, titles[count], 'f')\n",
    "            count += 1\n",
    "            seen.append(value)\n",
    "    \n",
    "    bkgError.SetFillStyle(3002)\n",
    "    bkgError.SetFillColor(12)\n",
    "    bkgError.SetMarkerSize(0)\n",
    "    legend.AddEntry(bkgError, 'BKG err', 'f')\n",
    "    \n",
    "    if mu == -1:\n",
    "        areaSig = MCSig.Integral('width')\n",
    "        scale = areaBkg/areaSig\n",
    "        MCSig.Scale(scale)\n",
    "    else:\n",
    "        MCSig.Scale(mu)\n",
    "        MCSig.Add(bkgError)\n",
    "        \n",
    "    # Draw histograms\n",
    "    data.SetMarkerStyle(20)\n",
    "    data.SetLineColor(ROOT.kBlack)\n",
    "    data.SetLineWidth(3)\n",
    "    MCSig.SetLineColor(colors['MCSig'])\n",
    "    MCSig.SetLineWidth(3)\n",
    "\n",
    "    c = ROOT.TCanvas('', '', 600, 600)\n",
    "    \n",
    "    name = data.GetTitle()\n",
    "    if name in labels:\n",
    "        title = labels[name]\n",
    "    else:\n",
    "        title = name\n",
    "\n",
    "    stack.Draw('HIST')\n",
    "    bkgError.Draw('E2 SAME')\n",
    "    MCSig.Draw('HIST SAME')\n",
    "    data.Draw('E1P SAME')\n",
    "    \n",
    "    stack.GetXaxis().SetTitle(labels[variable])\n",
    "    stack.GetYaxis().SetTitle('N_{Events}')\n",
    "    stack.SetMaximum(max(bkgError.GetMaximum(), data.GetMaximum()) * 1.6)\n",
    "    stack.SetMinimum(1.0)\n",
    "\n",
    "    # Add legend\n",
    "    legend.AddEntry(MCSig, 'FCNC', 'f')\n",
    "    legend.AddEntry(data, 'Data', 'lep')\n",
    "    legend.SetBorderSize(0)\n",
    "    legend.Draw()\n",
    "\n",
    "    # Add title\n",
    "    latex = ROOT.TLatex()\n",
    "    latex.SetNDC()\n",
    "    latex.SetTextSize(0.04)\n",
    "    latex.SetTextFont(42)\n",
    "    latex.DrawLatex(0.16, 0.935, '#bf{CMS FCNC}')\n",
    "\n",
    "    # Save\n",
    "#     c.SaveAs(dirPlotPath + '{}_{}'.format(variable, nSkim))\n",
    "    c.SaveAs(dirPlotPath + '{}_final_histogram_{}.png'.format(variable, nSkim))"
   ]
  },
  {
   "cell_type": "code",
   "execution_count": null,
   "id": "70ab09d9",
   "metadata": {},
   "outputs": [],
   "source": [
    "# Loop over all variable names and make a plot for each\n",
    "for variable in labels.keys():\n",
    "    plot_hist(variable, nSkim, 0.0112)"
   ]
  },
  {
   "cell_type": "code",
   "execution_count": null,
   "id": "d49eaf4d",
   "metadata": {
    "scrolled": true
   },
   "outputs": [],
   "source": [
    "from IPython.display import Image\n",
    "for image in sorted(os.listdir(dirPlotPath + '')):\n",
    "    if image.endswith('*.png'):\n",
    "        display(Image(filename=(dirPlotPath + '' + image)))"
   ]
  },
  {
   "cell_type": "markdown",
   "id": "e01b6151",
   "metadata": {},
   "source": [
    "#### iSkim 1\n",
    "\n",
    "<img align='right' src='https://raw.githubusercontent.com/TommasoStentella/LCP_B-CMS_FCNC/master/Plots/max_eta_histogram_1.png' alt='Drawing' style='width:450px;'/>\n",
    "<img align='left' src='https://raw.githubusercontent.com/TommasoStentella/LCP_B-CMS_FCNC/master/Plots/lep_eta0_histogram_1.png' alt='Drawing' style='width:450px;'/>"
   ]
  },
  {
   "cell_type": "markdown",
   "id": "855a2923",
   "metadata": {},
   "source": [
    "#### iSkim 2\n",
    "\n",
    "<img align='right' src='https://raw.githubusercontent.com/TommasoStentella/LCP_B-CMS_FCNC/master/Plots/lep_eta1_histogram_2.png' alt='Drawing' style='width:450px;'/>\n",
    "<img align='left' src='https://raw.githubusercontent.com/TommasoStentella/LCP_B-CMS_FCNC/master/Plots/ST_histogram_2.png' alt='Drawing' style='width:450px;'/>"
   ]
  },
  {
   "cell_type": "markdown",
   "id": "37b4139a",
   "metadata": {},
   "source": [
    "#### iSkim 3\n",
    "\n",
    "<img align='right' src='https://raw.githubusercontent.com/TommasoStentella/LCP_B-CMS_FCNC/master/Plots/inv_m01_histogram_3.png' alt='Drawing' style='width:450px;'/>\n",
    "<img align='left' src='https://raw.githubusercontent.com/TommasoStentella/LCP_B-CMS_FCNC/master/Plots/Jet_pt0_histogram_3.png' alt='Drawing' style='width:450px;'/>"
   ]
  },
  {
   "cell_type": "markdown",
   "id": "3d385e0b",
   "metadata": {},
   "source": [
    "#### iSkim 4\n",
    "\n",
    "<img align='right' src='https://raw.githubusercontent.com/TommasoStentella/LCP_B-CMS_FCNC/master/Plots/dR01_histogram_4.png' alt='Drawing' style='width:450px;'/>\n",
    "<img align='left' src='https://raw.githubusercontent.com/TommasoStentella/LCP_B-CMS_FCNC/master/Plots/MET_pt_histogram_4.png' alt='Drawing' style='width:450px;'/>"
   ]
  },
  {
   "cell_type": "markdown",
   "id": "f177de3e",
   "metadata": {},
   "source": [
    "<a id='6'></a>\n",
    "[Index](#index)\n",
    "### 6. Cut significance"
   ]
  },
  {
   "cell_type": "markdown",
   "id": "41c76642",
   "metadata": {},
   "source": [
    "After having reached the agreement between data and MC background, when we aimed to increase the ratio $S/\\sqrt{B}$ of signal over background with new cuts, we made use of the `signif` function. Each cut effectiveness is checked and the result is written on file."
   ]
  },
  {
   "cell_type": "code",
   "execution_count": null,
   "id": "1f7cd79d",
   "metadata": {},
   "outputs": [],
   "source": [
    "nSkim = 2\n",
    "variable = 'lep_eta1'\n",
    "\n",
    "def signif(nSkim, title, variable=variable):    \n",
    "    tfile = ROOT.TFile(dirPlotPath + 'histogram_{}.root'.format(nSkim), 'READ')\n",
    "    MCSig = getHistogram(tfile, 'MCSig', variable)\n",
    "    \n",
    "    stack = ROOT.THStack('', '')\n",
    "    seen, count, areaBkg = [], 0, 0\n",
    "    \n",
    "    for key in dfMCBkg.keys():\n",
    "        histo = getHistogram(tfile, key, variable)\n",
    "        areaBkg += histo.Integral('width')\n",
    "        \n",
    "    areaSig = MCSig.Integral('width')\n",
    "    significance = round(areaSig/np.sqrt(areaBkg),3)\n",
    "    \n",
    "    with open('signif.txt', 'a') as f:\n",
    "        f.write('\\niSkim' + str(nSkim) + '\\t' + title + '\\t' + str(significance))\n",
    "        f.close()"
   ]
  },
  {
   "cell_type": "markdown",
   "id": "99deb48e",
   "metadata": {},
   "source": [
    "<a id='7'></a>\n",
    "[Index](#index)\n",
    "### 7. Write the snapshots to disk"
   ]
  },
  {
   "cell_type": "markdown",
   "id": "d95f6490",
   "metadata": {},
   "source": [
    "Through the `FilterFunctions.py` script the variables of interest are written on disk in a new root file thanks to the `define.Snapshot` command."
   ]
  },
  {
   "cell_type": "code",
   "execution_count": null,
   "id": "c5573d09",
   "metadata": {},
   "outputs": [],
   "source": [
    "%%bash\n",
    "rm /data/Skim/*.root"
   ]
  },
  {
   "cell_type": "code",
   "execution_count": null,
   "id": "93a0c0ff",
   "metadata": {
    "scrolled": true
   },
   "outputs": [],
   "source": [
    "%%bash\n",
    "ls /data/Skim"
   ]
  },
  {
   "cell_type": "code",
   "execution_count": null,
   "id": "e2b9c611",
   "metadata": {
    "scrolled": true
   },
   "outputs": [],
   "source": [
    "for i in range(1,5): ff.DeclareVariables[i](dfData, 'Data', save=True)"
   ]
  },
  {
   "cell_type": "code",
   "execution_count": null,
   "id": "831e0146",
   "metadata": {},
   "outputs": [],
   "source": [
    "for i in range(1,5): ff.DeclareVariables[i](dfMCSig, 'Signal', save=True)"
   ]
  },
  {
   "cell_type": "code",
   "execution_count": null,
   "id": "7c5f98c3",
   "metadata": {},
   "outputs": [],
   "source": [
    "for key, value in dfMCBkg.items():\n",
    "    for i in range(1,5): ff.DeclareVariables[i](value, 'MC' + key, save=True)"
   ]
  },
  {
   "cell_type": "markdown",
   "id": "38a31300",
   "metadata": {},
   "source": [
    "<a id='8'></a>\n",
    "[Index](#index)\n",
    "### 8. Bibliography\n",
    "\n",
    "[[1]](http://tesi.cab.unipd.it/46481/1/Boletti_Alessio.pdf) Boletti Alessio, \"Classification of muons produced in semileptonic B hadron decays in $pp\\rightarrow tt$ events at LHC\", Università degli Studi di Padova, a.a. 2013/2014.\n",
    "\n",
    "[[2]](https://cds.cern.ch/record/2766001/files/CERN-THESIS-2021-039.pdf) Marcoccia Lorenzo, Search for flavour-changing neutral-current top quark decays to c-quark and Z boson using the ATLAS detector at the LHC\", Università degli Studi di Roma \"Tor Vergata\", a.a. 2020/2021.\n",
    "\n",
    "[[3]](https://arxiv.org/pdf/physics/0703039.pdf) A. Hoecker _et al._, \"Toolkit for Multivariate Data Analysis with ROOT\", CERN-OPEN-2007-007, August 2, 2018.\n",
    "\n",
    "[[4]](https://link.springer.com/content/pdf/10.1007/JHEP02(2017)079.pdf) The CMS collaboration, \"Search for top quark decays via Higgs-boson-mediated flavor-changing neutral currents in pp collisions at $\\sqrt{s} = 8$ TeV\", JHEP02 079, February 2, 2017.\n",
    "\n",
    "[[5]](https://link.springer.com/content/pdf/10.1007/JHEP06(2018)102.pdf) The CMS collaboration, \"Search for the flavor-changing neutral current interactions of the top quark and the Higgs boson which decays into a pair of b quarks at $\\sqrt{s} = 13$ TeV\", JHEP06 102, June 20, 2018.\n",
    "\n",
    "[[6]](https://cds.cern.ch/record/1379837/files/NOTE2011_005.pdf) The ATLAS Collaboration, the CMS Collaboration, the LHC Higgs Combination Group, \"Procedure for the LHC Higgs boson search combination in Summer 2011\", CMS NOTE-2011/005, August 18, 2011.\n",
    "\n",
    "[[7]](https://journals.aps.org/prd/pdf/10.1103/PhysRevD.98.032002) M. Aaboud _et al._, \"Search for flavor-changing neutral currents in top quark decays $t\\rightarrow Hc$ and $t\\rightarrow Hu$ in multilepton final states in proton-proton collisions at $\\sqrt{s}= 13$ TeV with the ATLAS detector\", Physical Review D 98, 032002, August 6, 2018."
   ]
  }
 ],
 "metadata": {
  "kernelspec": {
   "display_name": "Python 3",
   "language": "python",
   "name": "python3"
  },
  "language_info": {
   "codemirror_mode": {
    "name": "ipython",
    "version": 3
   },
   "file_extension": ".py",
   "mimetype": "text/x-python",
   "name": "python",
   "nbconvert_exporter": "python",
   "pygments_lexer": "ipython3",
   "version": "3.6.13"
  }
 },
 "nbformat": 4,
 "nbformat_minor": 5
}
