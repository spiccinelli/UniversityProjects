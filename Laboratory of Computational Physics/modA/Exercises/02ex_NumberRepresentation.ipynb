{
 "cells": [
  {
   "cell_type": "markdown",
   "metadata": {},
   "source": [
    "1. Write a function that converts number representation (bin<->dec<->hex)"
   ]
  },
  {
   "cell_type": "code",
   "execution_count": 1,
   "metadata": {},
   "outputs": [
    {
     "name": "stdout",
     "output_type": "stream",
     "text": [
      "Convert the number from --> dec for decimal, bin for binary, hex for hexadecimal: dec\n",
      "Input decimal value: 65\n",
      "Decimal format:  65\n",
      "Binary format:  0b1000001\n",
      "Hexadecimal format:  0x41\n"
     ]
    }
   ],
   "source": [
    "def conversion():\n",
    "    choice = str(input(\"Convert the number from --> dec for decimal, bin for binary, hex for hexadecimal: \"))\n",
    "    \n",
    "    if choice == \"bin\":     \n",
    "        try:\n",
    "            num = int(input(\"Input binary value: \"), 2)\n",
    "            print(\"Decimal format: \", num)\n",
    "            print(\"Binary format: \", bin(num))\n",
    "            print(\"Hexadecimal format: \", hex(num)) \n",
    "        except ValueError:\n",
    "            print(\"Please input only binary value...\")\n",
    "    elif choice == \"hex\":\n",
    "        try:\n",
    "            num = int(input(\"Input hexadecimal value: \"), 16)\n",
    "            print(\"Decimal format: \", num)\n",
    "            print(\"Binary format: \", bin(num))\n",
    "            print(\"Hexadecimal format: \", hex(num)) \n",
    "        except ValueError:\n",
    "            print(\"Please input only hexadecimal value...\")\n",
    "    elif choice == \"dec\":\n",
    "        try:\n",
    "            num = int(input(\"Input decimal value: \"))\n",
    "            print(\"Decimal format: \", num)\n",
    "            print(\"Binary format: \", bin(num))\n",
    "            print(\"Hexadecimal format: \", hex(num)) \n",
    "        except ValueError:\n",
    "            print(\"Please input only decimal value...\")\n",
    "    else: print(\"Please type dec, bin or hex\")\n",
    "        \n",
    "conversion()"
   ]
  },
  {
   "cell_type": "markdown",
   "metadata": {},
   "source": [
    "2\\. Write a function that converts a 32 bit word into a single precision floating point (i.e. interprets the various bits as sign, mantissa and exponent)"
   ]
  },
  {
   "cell_type": "code",
   "execution_count": 2,
   "metadata": {},
   "outputs": [
    {
     "name": "stdout",
     "output_type": "stream",
     "text": [
      "01000001101011000111101011100001\n",
      "21.559999465942383\n"
     ]
    }
   ],
   "source": [
    "import struct\n",
    "# 01000001101011000111101011100001 32 bit example word\n",
    "def bit():\n",
    "    f = str(input())\n",
    "    f = int(f, 2)\n",
    "    print(struct.unpack('f', struct.pack('I', f))[0])\n",
    "bit()"
   ]
  },
  {
   "cell_type": "markdown",
   "metadata": {},
   "source": [
    "3\\. Write a program to determine the underflow and overflow limits (within a factor of 2) for python on your computer. \n",
    "\n",
    "**Tips**: define two variables inizialized to 1 and halve/double them enough time to exceed the under/over-flow limits  "
   ]
  },
  {
   "cell_type": "code",
   "execution_count": 3,
   "metadata": {},
   "outputs": [
    {
     "name": "stdout",
     "output_type": "stream",
     "text": [
      "Underflow limit reached at iteration # 1022\n",
      "Overflow limit reached at iteration # 1023\n"
     ]
    }
   ],
   "source": [
    "import sys\n",
    "under, over = 1., 1.\n",
    "first_under, first_over = True, True\n",
    "N = 1500\n",
    "for i in range(N+1):\n",
    "    under = under / 2\n",
    "    if under < sys.float_info.min:\n",
    "        if first_under:\n",
    "            print(\"Underflow limit reached at iteration # {}\".format(i))\n",
    "            first_under = False\n",
    "    over = over*2\n",
    "    if over > sys.float_info.max:\n",
    "        if first_over:\n",
    "            print(\"Overflow limit reached at iteration # {}\".format(i))\n",
    "            first_over = False"
   ]
  },
  {
   "cell_type": "markdown",
   "metadata": {},
   "source": [
    "4\\. Write a program to determine the machine precision\n",
    "\n",
    "**Tips**: define a new variable by adding a smaller and smaller value (proceeding similarly to prob. 2) to an original variable and check the point where the two are the same "
   ]
  },
  {
   "cell_type": "code",
   "execution_count": 4,
   "metadata": {},
   "outputs": [
    {
     "name": "stdout",
     "output_type": "stream",
     "text": [
      "Machine precision exceeded at iteration #:  52 , with epsilon:  1.1102230246251565e-16 , one:  1.0\n"
     ]
    }
   ],
   "source": [
    "N, eps, unit = 100, 1.0, 1.0\n",
    "for i in range(N):\n",
    "    eps = eps / 2\n",
    "    one = 1.0 + eps\n",
    "    if one.hex() == unit.hex():\n",
    "        print(\"Machine precision exceeded at iteration #: \", i, \", with epsilon: \", eps, \", one: \", one)\n",
    "        break"
   ]
  },
  {
   "cell_type": "markdown",
   "metadata": {},
   "source": [
    "5\\. Write a function that takes in input three parameters $a$, $b$ and $c$ and prints out the two solutions to the quadratic equation $ax^2+bx+c=0$ using the standard formula:\n",
    "$$\n",
    "x=\\frac{-b\\pm\\sqrt{b^2-4ac}}{2a}\n",
    "$$\n",
    "\n",
    "(a) use the program to compute the solution for $a=0.001$, $b=1000$ and $c=0.001$\n",
    "\n",
    "(b) re-express the standard solution formula by multiplying top and bottom by $-b\\mp\\sqrt{b^2-4ac}$ and again find the solution for $a=0.001$, $b=1000$ and $c=0.001$. How does it compare with what previously obtained? Why?\n",
    "\n",
    "(c) write a function that compute the roots of a quadratic equation accurately in all cases"
   ]
  },
  {
   "cell_type": "code",
   "execution_count": 5,
   "metadata": {},
   "outputs": [
    {
     "name": "stdout",
     "output_type": "stream",
     "text": [
      "(-9.999894245993346e-07, -999999.999999)\n",
      "(-1.000000000001e-06, -1000010.5755125057)\n",
      "(-1.000000000001e-06, -999999.999999)\n"
     ]
    }
   ],
   "source": [
    "from math import sqrt\n",
    "\n",
    "def quadratic_a(a, b, c):\n",
    "    d = sqrt(b**2 - 4*a*c)\n",
    "    return ((-b + d)/(2*a), (-b - d)/(2*a))\n",
    "\n",
    "def quadratic_b(a, b, c):\n",
    "    d = sqrt(b**2 - 4*a*c)\n",
    "    return (2*c / (-b - d), 2*c/(-b + d))\n",
    "\"\"\"\n",
    "Loss of significance is occuring in the first (for quadratic_a) and the second (for quadratic_b) of the root calculations;\n",
    "because of the subtraction, the quadratic equation doesn't constitute a stable algorithm.\n",
    "A stable solution is given by using both algorithms to calculate (for each) the right square root.\n",
    "    \n",
    "\"\"\"\n",
    "def quadratic_c(a, b, c):\n",
    "    d = sqrt(b**2 - 4*a*c)\n",
    "    return (2*c/(-b - d), (-b - d)/(2*a))\n",
    "\n",
    "print(quadratic_a(0.001,1000,0.001))\n",
    "print(quadratic_b(0.001,1000,0.001))\n",
    "print(quadratic_c(0.001,1000,0.001))"
   ]
  },
  {
   "cell_type": "markdown",
   "metadata": {},
   "source": [
    "6\\. Write a program that implements the function $f(x)=x(x−1)$\n",
    "\n",
    "(a) Calculate the derivative of the function at the point $x = 1$ using the derivative definition:\n",
    "\n",
    "$$\n",
    "\\frac{{\\rm d}f}{{\\rm d}x} = \\lim_{\\delta\\to0} \\frac{f(x+\\delta)-f(x)}{\\delta}\n",
    "$$\n",
    "\n",
    "with $\\delta = 10^{−2}$. Calculate the true value of the same derivative analytically and compare with the answer your program gives. The two will not agree perfectly. Why not?\n",
    "\n",
    "(b) Repeat the calculation for $\\delta = 10^{−4}, 10^{−6}, 10^{−8}, 10^{−10}, 10^{−12}$ and $10^{−14}$. How does the accuracy scales with $\\delta$?"
   ]
  },
  {
   "cell_type": "code",
   "execution_count": 6,
   "metadata": {},
   "outputs": [
    {
     "name": "stdout",
     "output_type": "stream",
     "text": [
      "[1.0000999999998899, 1.0000009999177333, 1.0000000039225287, 1.000000082840371, 1.0000889005833413, 0.9992007221626509]\n"
     ]
    },
    {
     "data": {
      "image/png": "[encoded data removed]",
      "text/plain": [
       "<Figure size 432x288 with 1 Axes>"
      ]
     },
     "metadata": {
      "needs_background": "light"
     },
     "output_type": "display_data"
    }
   ],
   "source": [
    "import matplotlib.pyplot as plt\n",
    "import numpy as np\n",
    "def f(x):\n",
    "    return x*(x-1)\n",
    "\n",
    "d, x = [], []\n",
    "for i in range(2,8): #substitute 8->9 to see the value drop to 0\n",
    "    delta = pow(10,-2*i)\n",
    "    deriv = (f(1 + delta) - f(1)) / delta\n",
    "    d.append(deriv)\n",
    "    x.append(delta)\n",
    "print(d)\n",
    "\"\"\"\n",
    "The analitical value of the derivative in x = 1 is 1; there is a loss of significance due to the subtraction of two terms\n",
    "very close in value, namely f(x + delta) and f(x). The different values of d/dx(f(x)) are shown in the graph, starting\n",
    "from delta = e-4; for e-16 the value drops to 0.\n",
    "\n",
    "\"\"\"\n",
    "plt.plot(x, d, \"ro\")\n",
    "plt.ylabel(\"Derivative for different delta values\")\n",
    "plt.xlabel(\"Different delta values\")\n",
    "plt.xscale(\"log\")\n",
    "plt.grid(True)"
   ]
  },
  {
   "cell_type": "markdown",
   "metadata": {},
   "source": [
    "7\\. Consider the integral of the semicircle of radius 1:\n",
    "$$\n",
    "I=\\int_{-1}^{1} \\sqrt(1-x^2) {\\rm d}x\n",
    "$$\n",
    "which it's known to be $I=\\frac{\\pi}{2}=1.57079632679...$.\n",
    "Alternatively we can use the Riemann definition of the integral:\n",
    "$$\n",
    "I=\\lim_{N\\to\\infty} \\sum_{k=1}^{N} h y_k \n",
    "$$\n",
    "\n",
    "with $h=2/N$ the width of each of the $N$ slices the domain is divided into and where\n",
    "$y_k$ is the value of the function at the $k-$th slice.\n",
    "\n",
    "(a) Write a programe to compute the integral with $N=100$. How does the result compares to the true value?\n",
    "\n",
    "(b) How much can $N$ be increased if the computation needs to be run in less than a second? What is the gain in running it for 1 minute? \n"
   ]
  },
  {
   "cell_type": "code",
   "execution_count": 7,
   "metadata": {
    "scrolled": true
   },
   "outputs": [
    {
     "name": "stdout",
     "output_type": "stream",
     "text": [
      "1.5712827762297956\n",
      "The percentage error to the true value is 0.03096833285138878%\n",
      "The execution time for 100 calls is: 1.138449e-03s\n",
      "1.5707963268383698\n",
      "The percentage error to the true value is 2.7675861602460827e-09%\n",
      "The execution time for 5e6 calls is: 3.861414e+00s\n"
     ]
    }
   ],
   "source": [
    "from math import sqrt, pi\n",
    "import numpy as np\n",
    "import time\n",
    "\n",
    "def f(x):\n",
    "    return sqrt(1 - x**2)\n",
    "\n",
    "def integral(N):\n",
    "    h = 2 / N\n",
    "    I, a, b = 0, -1, 1\n",
    "    h = 2 / N\n",
    "    I, a, b = 0, -1, 1\n",
    "    for k in range(1, N+1):\n",
    "        x_k = a + (2*k - 1) / N\n",
    "        I += f(x_k)\n",
    "    print(I*h)\n",
    "    epsilon = np.abs((((2*I*h) / pi) - 1)*100)\n",
    "    print(\"The percentage error to the true value is {}%\".format(epsilon))\n",
    "    \n",
    "start_time = time.time()\n",
    "integral(100)\n",
    "end_time = time.time()\n",
    "print(\"The execution time for 100 calls is: {:e}s\".format(end_time-start_time))\n",
    "\n",
    "start_time = time.time()\n",
    "integral(5000000)\n",
    "end_time = time.time()\n",
    "print(\"The execution time for 5e6 calls is: {:e}s\".format(end_time-start_time))"
   ]
  },
  {
   "cell_type": "code",
   "execution_count": 8,
   "metadata": {},
   "outputs": [
    {
     "name": "stdout",
     "output_type": "stream",
     "text": [
      "1.5707963267962712\n",
      "The percentage error to the true value is 8.750777880095484e-11%\n",
      "The execution time for 5e8 calls is: 5.092002e+02s\n"
     ]
    }
   ],
   "source": [
    "start_time = time.time()\n",
    "integral(500000000)\n",
    "end_time = time.time()\n",
    "print(\"The execution time for 5e8 calls is: {:e}s\".format(end_time-start_time))\n",
    "#the gain in precision is roughly of 2 orders of magnitude"
   ]
  },
  {
   "cell_type": "code",
   "execution_count": null,
   "metadata": {},
   "outputs": [],
   "source": []
  }
 ],
 "metadata": {
  "kernelspec": {
   "display_name": "Python 3",
   "language": "python",
   "name": "python3"
  },
  "language_info": {
   "codemirror_mode": {
    "name": "ipython",
    "version": 3
   },
   "file_extension": ".py",
   "mimetype": "text/x-python",
   "name": "python",
   "nbconvert_exporter": "python",
   "pygments_lexer": "ipython3",
   "version": "3.8.5"
  }
 },
 "nbformat": 4,
 "nbformat_minor": 2
}
